{
 "cells": [
  {
   "cell_type": "markdown",
   "metadata": {},
   "source": [
    "## Electric Vehicle Analysis in Washington "
   ]
  },
  {
   "cell_type": "markdown",
   "metadata": {},
   "source": [
    "#### Loading Libraries and Dataset"
   ]
  },
  {
   "cell_type": "code",
   "execution_count": 1,
   "metadata": {},
   "outputs": [],
   "source": [
    "import pandas as pd\n",
    "import numpy as np\n",
    "import matplotlib.pyplot as plt\n",
    "import seaborn as sns\n",
    "import string\n",
    "from tqdm import tqdm \n",
    "\n",
    "pd.set_option(\"max_rows\",1000000)\n",
    "pd.set_option(\"max_columns\",100)"
   ]
  },
  {
   "cell_type": "code",
   "execution_count": 2,
   "metadata": {},
   "outputs": [],
   "source": [
    "df = pd.read_csv('EV_Title_and_Registration_Activity_Govt.csv',sep=\",\")"
   ]
  },
  {
   "cell_type": "code",
   "execution_count": 40,
   "metadata": {},
   "outputs": [
    {
     "data": {
      "text/html": [
       "<div>\n",
       "<style scoped>\n",
       "    .dataframe tbody tr th:only-of-type {\n",
       "        vertical-align: middle;\n",
       "    }\n",
       "\n",
       "    .dataframe tbody tr th {\n",
       "        vertical-align: top;\n",
       "    }\n",
       "\n",
       "    .dataframe thead th {\n",
       "        text-align: right;\n",
       "    }\n",
       "</style>\n",
       "<table border=\"1\" class=\"dataframe\">\n",
       "  <thead>\n",
       "    <tr style=\"text-align: right;\">\n",
       "      <th></th>\n",
       "      <th>Clean Alternative Fuel Vehicle Type</th>\n",
       "      <th>VIN (1-10)</th>\n",
       "      <th>Model Year</th>\n",
       "      <th>Make</th>\n",
       "      <th>Model</th>\n",
       "      <th>New or Used Vehicle</th>\n",
       "      <th>Sale Price</th>\n",
       "      <th>DOL Transaction Date</th>\n",
       "      <th>Transaction Type</th>\n",
       "      <th>Transaction Year</th>\n",
       "      <th>Electric Vehicle Fee Paid</th>\n",
       "      <th>County</th>\n",
       "      <th>City</th>\n",
       "      <th>Zip</th>\n",
       "      <th>Electric Range</th>\n",
       "      <th>Base MSRP</th>\n",
       "      <th>2015 HB 2778 Exemption Eligibility</th>\n",
       "      <th>Sale Date</th>\n",
       "      <th>Vehicle Primary Use</th>\n",
       "      <th>State of Residence</th>\n",
       "      <th>DOL Vehicle ID</th>\n",
       "      <th>Legislative District</th>\n",
       "      <th>2019 HB 2042 Clean Alternative Fuel Vehicle (CAFV) Eligibility</th>\n",
       "      <th>Meets 2019 HB 2042 Electric Range Requirement</th>\n",
       "      <th>Meets 2019 HB 2042 Sale Date Requirement</th>\n",
       "      <th>Meets 2019 HB 2042 Sale Price/Value Requirement</th>\n",
       "      <th>Odometer Reading</th>\n",
       "      <th>Odometer Code</th>\n",
       "      <th>Transportation Electrification Fee Paid</th>\n",
       "      <th>Hybrid Vehicle Electrification Fee Paid</th>\n",
       "    </tr>\n",
       "  </thead>\n",
       "  <tbody>\n",
       "    <tr>\n",
       "      <th>0</th>\n",
       "      <td>Plug-in Hybrid Electric Vehicle (PHEV)</td>\n",
       "      <td>1G1RB6S55J</td>\n",
       "      <td>2018</td>\n",
       "      <td>CHEVROLET</td>\n",
       "      <td>Volt</td>\n",
       "      <td>Used</td>\n",
       "      <td>0</td>\n",
       "      <td>July 01 2019</td>\n",
       "      <td>Registration Renewal</td>\n",
       "      <td>2019</td>\n",
       "      <td>Yes</td>\n",
       "      <td>Thurston</td>\n",
       "      <td>OLYMPIA</td>\n",
       "      <td>98501</td>\n",
       "      <td>53</td>\n",
       "      <td>0</td>\n",
       "      <td>TRANSACTION NOT ELIGIBLE: Non-sale, registrati...</td>\n",
       "      <td>NaN</td>\n",
       "      <td>Passenger</td>\n",
       "      <td>WA</td>\n",
       "      <td>290959301</td>\n",
       "      <td>22</td>\n",
       "      <td>TRANSACTION NOT ELIGIBLE: Non-sale, registrati...</td>\n",
       "      <td>True</td>\n",
       "      <td>False</td>\n",
       "      <td>False</td>\n",
       "      <td>0</td>\n",
       "      <td>Odometer reading is not collected at time of r...</td>\n",
       "      <td>No</td>\n",
       "      <td>No</td>\n",
       "    </tr>\n",
       "    <tr>\n",
       "      <th>1</th>\n",
       "      <td>Plug-in Hybrid Electric Vehicle (PHEV)</td>\n",
       "      <td>1G1RA6S50H</td>\n",
       "      <td>2017</td>\n",
       "      <td>CHEVROLET</td>\n",
       "      <td>Volt</td>\n",
       "      <td>New</td>\n",
       "      <td>0</td>\n",
       "      <td>June 30 2016</td>\n",
       "      <td>Original Registration</td>\n",
       "      <td>2016</td>\n",
       "      <td>No</td>\n",
       "      <td>King</td>\n",
       "      <td>BOTHELL</td>\n",
       "      <td>98011</td>\n",
       "      <td>53</td>\n",
       "      <td>0</td>\n",
       "      <td>TRANSACTION NOT ELIGIBLE: Non-sale, registrati...</td>\n",
       "      <td>June 19 2016</td>\n",
       "      <td>Passenger</td>\n",
       "      <td>WA</td>\n",
       "      <td>215759750</td>\n",
       "      <td>1</td>\n",
       "      <td>TRANSACTION NOT ELIGIBLE: Non-sale, registrati...</td>\n",
       "      <td>True</td>\n",
       "      <td>False</td>\n",
       "      <td>False</td>\n",
       "      <td>6</td>\n",
       "      <td>Actual Mileage</td>\n",
       "      <td>Not Mentioned</td>\n",
       "      <td>Not Mentioned</td>\n",
       "    </tr>\n",
       "    <tr>\n",
       "      <th>2</th>\n",
       "      <td>Plug-in Hybrid Electric Vehicle (PHEV)</td>\n",
       "      <td>1G1RA6S50H</td>\n",
       "      <td>2017</td>\n",
       "      <td>CHEVROLET</td>\n",
       "      <td>Volt</td>\n",
       "      <td>New</td>\n",
       "      <td>0</td>\n",
       "      <td>June 30 2016</td>\n",
       "      <td>Original Title</td>\n",
       "      <td>2016</td>\n",
       "      <td>Not Applicable</td>\n",
       "      <td>King</td>\n",
       "      <td>BOTHELL</td>\n",
       "      <td>98011</td>\n",
       "      <td>53</td>\n",
       "      <td>0</td>\n",
       "      <td>CANNOT DETERMINE ELIGIBILITY: Base MSRP has no...</td>\n",
       "      <td>June 19 2016</td>\n",
       "      <td>Passenger</td>\n",
       "      <td>WA</td>\n",
       "      <td>215759750</td>\n",
       "      <td>1</td>\n",
       "      <td>TRANSACTION NOT ELIGIBLE: Sale before August 2...</td>\n",
       "      <td>True</td>\n",
       "      <td>False</td>\n",
       "      <td>False</td>\n",
       "      <td>6</td>\n",
       "      <td>Actual Mileage</td>\n",
       "      <td>Not Mentioned</td>\n",
       "      <td>Not Mentioned</td>\n",
       "    </tr>\n",
       "    <tr>\n",
       "      <th>3</th>\n",
       "      <td>Battery Electric Vehicle (BEV)</td>\n",
       "      <td>1N4AZ0CP9D</td>\n",
       "      <td>2013</td>\n",
       "      <td>NISSAN</td>\n",
       "      <td>Leaf</td>\n",
       "      <td>Used</td>\n",
       "      <td>0</td>\n",
       "      <td>May 06 2015</td>\n",
       "      <td>Registration Renewal</td>\n",
       "      <td>2015</td>\n",
       "      <td>Yes</td>\n",
       "      <td>King</td>\n",
       "      <td>DUVALL</td>\n",
       "      <td>98019</td>\n",
       "      <td>75</td>\n",
       "      <td>0</td>\n",
       "      <td>TRANSACTION NOT ELIGIBLE: Non-sale, registrati...</td>\n",
       "      <td>NaN</td>\n",
       "      <td>Passenger</td>\n",
       "      <td>WA</td>\n",
       "      <td>227913206</td>\n",
       "      <td>5</td>\n",
       "      <td>TRANSACTION NOT ELIGIBLE: Non-sale, registrati...</td>\n",
       "      <td>True</td>\n",
       "      <td>False</td>\n",
       "      <td>False</td>\n",
       "      <td>15</td>\n",
       "      <td>Actual Mileage</td>\n",
       "      <td>Not Mentioned</td>\n",
       "      <td>Not Mentioned</td>\n",
       "    </tr>\n",
       "    <tr>\n",
       "      <th>4</th>\n",
       "      <td>Plug-in Hybrid Electric Vehicle (PHEV)</td>\n",
       "      <td>1G1RA6S54H</td>\n",
       "      <td>2017</td>\n",
       "      <td>CHEVROLET</td>\n",
       "      <td>Volt</td>\n",
       "      <td>Used</td>\n",
       "      <td>0</td>\n",
       "      <td>April 18 2019</td>\n",
       "      <td>Registration Renewal</td>\n",
       "      <td>2019</td>\n",
       "      <td>Yes</td>\n",
       "      <td>King</td>\n",
       "      <td>REDMOND</td>\n",
       "      <td>98053</td>\n",
       "      <td>53</td>\n",
       "      <td>0</td>\n",
       "      <td>TRANSACTION NOT ELIGIBLE: Non-sale, registrati...</td>\n",
       "      <td>NaN</td>\n",
       "      <td>Passenger</td>\n",
       "      <td>WA</td>\n",
       "      <td>190099227</td>\n",
       "      <td>45</td>\n",
       "      <td>TRANSACTION NOT ELIGIBLE: Non-sale, registrati...</td>\n",
       "      <td>True</td>\n",
       "      <td>False</td>\n",
       "      <td>False</td>\n",
       "      <td>0</td>\n",
       "      <td>Odometer reading is not collected at time of r...</td>\n",
       "      <td>No</td>\n",
       "      <td>No</td>\n",
       "    </tr>\n",
       "  </tbody>\n",
       "</table>\n",
       "</div>"
      ],
      "text/plain": [
       "      Clean Alternative Fuel Vehicle Type  VIN (1-10)  Model Year       Make  \\\n",
       "0  Plug-in Hybrid Electric Vehicle (PHEV)  1G1RB6S55J        2018  CHEVROLET   \n",
       "1  Plug-in Hybrid Electric Vehicle (PHEV)  1G1RA6S50H        2017  CHEVROLET   \n",
       "2  Plug-in Hybrid Electric Vehicle (PHEV)  1G1RA6S50H        2017  CHEVROLET   \n",
       "3          Battery Electric Vehicle (BEV)  1N4AZ0CP9D        2013     NISSAN   \n",
       "4  Plug-in Hybrid Electric Vehicle (PHEV)  1G1RA6S54H        2017  CHEVROLET   \n",
       "\n",
       "  Model New or Used Vehicle  Sale Price DOL Transaction Date  \\\n",
       "0  Volt                Used           0         July 01 2019   \n",
       "1  Volt                 New           0         June 30 2016   \n",
       "2  Volt                 New           0         June 30 2016   \n",
       "3  Leaf                Used           0          May 06 2015   \n",
       "4  Volt                Used           0        April 18 2019   \n",
       "\n",
       "        Transaction Type  Transaction Year Electric Vehicle Fee Paid  \\\n",
       "0   Registration Renewal              2019                       Yes   \n",
       "1  Original Registration              2016                        No   \n",
       "2         Original Title              2016            Not Applicable   \n",
       "3   Registration Renewal              2015                       Yes   \n",
       "4   Registration Renewal              2019                       Yes   \n",
       "\n",
       "     County     City    Zip  Electric Range  Base MSRP  \\\n",
       "0  Thurston  OLYMPIA  98501              53          0   \n",
       "1      King  BOTHELL  98011              53          0   \n",
       "2      King  BOTHELL  98011              53          0   \n",
       "3      King   DUVALL  98019              75          0   \n",
       "4      King  REDMOND  98053              53          0   \n",
       "\n",
       "                  2015 HB 2778 Exemption Eligibility     Sale Date  \\\n",
       "0  TRANSACTION NOT ELIGIBLE: Non-sale, registrati...           NaN   \n",
       "1  TRANSACTION NOT ELIGIBLE: Non-sale, registrati...  June 19 2016   \n",
       "2  CANNOT DETERMINE ELIGIBILITY: Base MSRP has no...  June 19 2016   \n",
       "3  TRANSACTION NOT ELIGIBLE: Non-sale, registrati...           NaN   \n",
       "4  TRANSACTION NOT ELIGIBLE: Non-sale, registrati...           NaN   \n",
       "\n",
       "  Vehicle Primary Use State of Residence  DOL Vehicle ID  \\\n",
       "0           Passenger                 WA       290959301   \n",
       "1           Passenger                 WA       215759750   \n",
       "2           Passenger                 WA       215759750   \n",
       "3           Passenger                 WA       227913206   \n",
       "4           Passenger                 WA       190099227   \n",
       "\n",
       "   Legislative District  \\\n",
       "0                    22   \n",
       "1                     1   \n",
       "2                     1   \n",
       "3                     5   \n",
       "4                    45   \n",
       "\n",
       "  2019 HB 2042 Clean Alternative Fuel Vehicle (CAFV) Eligibility  \\\n",
       "0  TRANSACTION NOT ELIGIBLE: Non-sale, registrati...               \n",
       "1  TRANSACTION NOT ELIGIBLE: Non-sale, registrati...               \n",
       "2  TRANSACTION NOT ELIGIBLE: Sale before August 2...               \n",
       "3  TRANSACTION NOT ELIGIBLE: Non-sale, registrati...               \n",
       "4  TRANSACTION NOT ELIGIBLE: Non-sale, registrati...               \n",
       "\n",
       "   Meets 2019 HB 2042 Electric Range Requirement  \\\n",
       "0                                           True   \n",
       "1                                           True   \n",
       "2                                           True   \n",
       "3                                           True   \n",
       "4                                           True   \n",
       "\n",
       "   Meets 2019 HB 2042 Sale Date Requirement  \\\n",
       "0                                     False   \n",
       "1                                     False   \n",
       "2                                     False   \n",
       "3                                     False   \n",
       "4                                     False   \n",
       "\n",
       "   Meets 2019 HB 2042 Sale Price/Value Requirement  Odometer Reading  \\\n",
       "0                                            False                 0   \n",
       "1                                            False                 6   \n",
       "2                                            False                 6   \n",
       "3                                            False                15   \n",
       "4                                            False                 0   \n",
       "\n",
       "                                       Odometer Code  \\\n",
       "0  Odometer reading is not collected at time of r...   \n",
       "1                                     Actual Mileage   \n",
       "2                                     Actual Mileage   \n",
       "3                                     Actual Mileage   \n",
       "4  Odometer reading is not collected at time of r...   \n",
       "\n",
       "  Transportation Electrification Fee Paid  \\\n",
       "0                                      No   \n",
       "1                           Not Mentioned   \n",
       "2                           Not Mentioned   \n",
       "3                           Not Mentioned   \n",
       "4                                      No   \n",
       "\n",
       "  Hybrid Vehicle Electrification Fee Paid  \n",
       "0                                      No  \n",
       "1                           Not Mentioned  \n",
       "2                           Not Mentioned  \n",
       "3                           Not Mentioned  \n",
       "4                                      No  "
      ]
     },
     "execution_count": 40,
     "metadata": {},
     "output_type": "execute_result"
    }
   ],
   "source": [
    "df.head()"
   ]
  },
  {
   "cell_type": "code",
   "execution_count": 7,
   "metadata": {},
   "outputs": [
    {
     "data": {
      "text/plain": [
       "(523595, 30)"
      ]
     },
     "execution_count": 7,
     "metadata": {},
     "output_type": "execute_result"
    }
   ],
   "source": [
    "df.shape"
   ]
  },
  {
   "cell_type": "code",
   "execution_count": 8,
   "metadata": {},
   "outputs": [
    {
     "data": {
      "text/html": [
       "<div>\n",
       "<style scoped>\n",
       "    .dataframe tbody tr th:only-of-type {\n",
       "        vertical-align: middle;\n",
       "    }\n",
       "\n",
       "    .dataframe tbody tr th {\n",
       "        vertical-align: top;\n",
       "    }\n",
       "\n",
       "    .dataframe thead th {\n",
       "        text-align: right;\n",
       "    }\n",
       "</style>\n",
       "<table border=\"1\" class=\"dataframe\">\n",
       "  <thead>\n",
       "    <tr style=\"text-align: right;\">\n",
       "      <th></th>\n",
       "      <th>Model Year</th>\n",
       "      <th>Sale Price</th>\n",
       "      <th>Transaction Year</th>\n",
       "      <th>Zip</th>\n",
       "      <th>Electric Range</th>\n",
       "      <th>Base MSRP</th>\n",
       "      <th>DOL Vehicle ID</th>\n",
       "      <th>Legislative District</th>\n",
       "      <th>Odometer Reading</th>\n",
       "    </tr>\n",
       "  </thead>\n",
       "  <tbody>\n",
       "    <tr>\n",
       "      <th>count</th>\n",
       "      <td>523595.000000</td>\n",
       "      <td>5.235950e+05</td>\n",
       "      <td>523595.000000</td>\n",
       "      <td>523572.000000</td>\n",
       "      <td>523595.000000</td>\n",
       "      <td>523595.000000</td>\n",
       "      <td>5.235950e+05</td>\n",
       "      <td>521464.000000</td>\n",
       "      <td>523595.000000</td>\n",
       "    </tr>\n",
       "    <tr>\n",
       "      <th>mean</th>\n",
       "      <td>2016.570951</td>\n",
       "      <td>8.822565e+03</td>\n",
       "      <td>2018.679928</td>\n",
       "      <td>98091.649345</td>\n",
       "      <td>108.991161</td>\n",
       "      <td>4223.566621</td>\n",
       "      <td>2.026934e+08</td>\n",
       "      <td>30.305651</td>\n",
       "      <td>3072.987513</td>\n",
       "    </tr>\n",
       "    <tr>\n",
       "      <th>std</th>\n",
       "      <td>2.874726</td>\n",
       "      <td>2.714242e+04</td>\n",
       "      <td>2.382331</td>\n",
       "      <td>3193.981785</td>\n",
       "      <td>92.283287</td>\n",
       "      <td>16076.206669</td>\n",
       "      <td>1.086169e+08</td>\n",
       "      <td>14.686641</td>\n",
       "      <td>11513.433071</td>\n",
       "    </tr>\n",
       "    <tr>\n",
       "      <th>min</th>\n",
       "      <td>1993.000000</td>\n",
       "      <td>0.000000e+00</td>\n",
       "      <td>2010.000000</td>\n",
       "      <td>745.000000</td>\n",
       "      <td>0.000000</td>\n",
       "      <td>0.000000</td>\n",
       "      <td>4.000000e+00</td>\n",
       "      <td>1.000000</td>\n",
       "      <td>0.000000</td>\n",
       "    </tr>\n",
       "    <tr>\n",
       "      <th>25%</th>\n",
       "      <td>2014.000000</td>\n",
       "      <td>0.000000e+00</td>\n",
       "      <td>2017.000000</td>\n",
       "      <td>98045.000000</td>\n",
       "      <td>26.000000</td>\n",
       "      <td>0.000000</td>\n",
       "      <td>1.349283e+08</td>\n",
       "      <td>20.000000</td>\n",
       "      <td>0.000000</td>\n",
       "    </tr>\n",
       "    <tr>\n",
       "      <th>50%</th>\n",
       "      <td>2017.000000</td>\n",
       "      <td>0.000000e+00</td>\n",
       "      <td>2019.000000</td>\n",
       "      <td>98117.000000</td>\n",
       "      <td>81.000000</td>\n",
       "      <td>0.000000</td>\n",
       "      <td>1.815170e+08</td>\n",
       "      <td>34.000000</td>\n",
       "      <td>0.000000</td>\n",
       "    </tr>\n",
       "    <tr>\n",
       "      <th>75%</th>\n",
       "      <td>2019.000000</td>\n",
       "      <td>0.000000e+00</td>\n",
       "      <td>2021.000000</td>\n",
       "      <td>98362.000000</td>\n",
       "      <td>208.000000</td>\n",
       "      <td>0.000000</td>\n",
       "      <td>2.494407e+08</td>\n",
       "      <td>43.000000</td>\n",
       "      <td>15.000000</td>\n",
       "    </tr>\n",
       "    <tr>\n",
       "      <th>max</th>\n",
       "      <td>2022.000000</td>\n",
       "      <td>1.231202e+07</td>\n",
       "      <td>2022.000000</td>\n",
       "      <td>99901.000000</td>\n",
       "      <td>337.000000</td>\n",
       "      <td>845000.000000</td>\n",
       "      <td>4.792548e+08</td>\n",
       "      <td>49.000000</td>\n",
       "      <td>888830.000000</td>\n",
       "    </tr>\n",
       "  </tbody>\n",
       "</table>\n",
       "</div>"
      ],
      "text/plain": [
       "          Model Year    Sale Price  Transaction Year            Zip  \\\n",
       "count  523595.000000  5.235950e+05     523595.000000  523572.000000   \n",
       "mean     2016.570951  8.822565e+03       2018.679928   98091.649345   \n",
       "std         2.874726  2.714242e+04          2.382331    3193.981785   \n",
       "min      1993.000000  0.000000e+00       2010.000000     745.000000   \n",
       "25%      2014.000000  0.000000e+00       2017.000000   98045.000000   \n",
       "50%      2017.000000  0.000000e+00       2019.000000   98117.000000   \n",
       "75%      2019.000000  0.000000e+00       2021.000000   98362.000000   \n",
       "max      2022.000000  1.231202e+07       2022.000000   99901.000000   \n",
       "\n",
       "       Electric Range      Base MSRP  DOL Vehicle ID  Legislative District  \\\n",
       "count   523595.000000  523595.000000    5.235950e+05         521464.000000   \n",
       "mean       108.991161    4223.566621    2.026934e+08             30.305651   \n",
       "std         92.283287   16076.206669    1.086169e+08             14.686641   \n",
       "min          0.000000       0.000000    4.000000e+00              1.000000   \n",
       "25%         26.000000       0.000000    1.349283e+08             20.000000   \n",
       "50%         81.000000       0.000000    1.815170e+08             34.000000   \n",
       "75%        208.000000       0.000000    2.494407e+08             43.000000   \n",
       "max        337.000000  845000.000000    4.792548e+08             49.000000   \n",
       "\n",
       "       Odometer Reading  \n",
       "count     523595.000000  \n",
       "mean        3072.987513  \n",
       "std        11513.433071  \n",
       "min            0.000000  \n",
       "25%            0.000000  \n",
       "50%            0.000000  \n",
       "75%           15.000000  \n",
       "max       888830.000000  "
      ]
     },
     "execution_count": 8,
     "metadata": {},
     "output_type": "execute_result"
    }
   ],
   "source": [
    "df.describe()"
   ]
  },
  {
   "cell_type": "code",
   "execution_count": 39,
   "metadata": {},
   "outputs": [
    {
     "data": {
      "text/plain": [
       "Clean Alternative Fuel Vehicle Type                               object\n",
       "VIN (1-10)                                                        object\n",
       "Model Year                                                         int64\n",
       "Make                                                              object\n",
       "Model                                                             object\n",
       "New or Used Vehicle                                               object\n",
       "Sale Price                                                         int64\n",
       "DOL Transaction Date                                              object\n",
       "Transaction Type                                                  object\n",
       "Transaction Year                                                   int64\n",
       "Electric Vehicle Fee Paid                                         object\n",
       "County                                                            object\n",
       "City                                                              object\n",
       "Zip                                                                int64\n",
       "Electric Range                                                     int64\n",
       "Base MSRP                                                          int64\n",
       "2015 HB 2778 Exemption Eligibility                                object\n",
       "Sale Date                                                         object\n",
       "Vehicle Primary Use                                               object\n",
       "State of Residence                                                object\n",
       "DOL Vehicle ID                                                     int64\n",
       "Legislative District                                               int64\n",
       "2019 HB 2042 Clean Alternative Fuel Vehicle (CAFV) Eligibility    object\n",
       "Meets 2019 HB 2042 Electric Range Requirement                       bool\n",
       "Meets 2019 HB 2042 Sale Date Requirement                            bool\n",
       "Meets 2019 HB 2042 Sale Price/Value Requirement                     bool\n",
       "Odometer Reading                                                   int64\n",
       "Odometer Code                                                     object\n",
       "Transportation Electrification Fee Paid                           object\n",
       "Hybrid Vehicle Electrification Fee Paid                           object\n",
       "dtype: object"
      ]
     },
     "execution_count": 39,
     "metadata": {},
     "output_type": "execute_result"
    }
   ],
   "source": [
    "df.dtypes"
   ]
  },
  {
   "cell_type": "markdown",
   "metadata": {},
   "source": [
    "#### Dealing with missing values and cleaning data"
   ]
  },
  {
   "cell_type": "code",
   "execution_count": 9,
   "metadata": {},
   "outputs": [],
   "source": [
    "missing_vals = df.isnull().sum()/len(df)*100"
   ]
  },
  {
   "cell_type": "code",
   "execution_count": 10,
   "metadata": {},
   "outputs": [],
   "source": [
    "m = []\n",
    "for i in range (len(missing_vals)):\n",
    "    m.append((missing_vals.index[i],missing_vals[i]))"
   ]
  },
  {
   "cell_type": "code",
   "execution_count": 11,
   "metadata": {},
   "outputs": [],
   "source": [
    "missing_df = pd.DataFrame(m,columns =['Column Name','Missing Value %'])\n",
    "missing_df = missing_df[missing_df['Missing Value %']>0]"
   ]
  },
  {
   "cell_type": "code",
   "execution_count": 12,
   "metadata": {},
   "outputs": [
    {
     "data": {
      "image/png": "[encoded data removed]",
      "text/plain": [
       "<Figure size 1080x504 with 1 Axes>"
      ]
     },
     "metadata": {
      "needs_background": "light"
     },
     "output_type": "display_data"
    }
   ],
   "source": [
    "plt.figure(figsize = (15, 7))\n",
    "g =sns.barplot(x='Column Name',y='Missing Value %',data = missing_df,color='blue')\n",
    "g.set_xticklabels(g.get_xticklabels(),rotation=90)\n",
    "plt.title(\"Percentage of Missing Values\")\n",
    "plt.show()"
   ]
  },
  {
   "cell_type": "code",
   "execution_count": 13,
   "metadata": {},
   "outputs": [
    {
     "data": {
      "text/html": [
       "<div>\n",
       "<style scoped>\n",
       "    .dataframe tbody tr th:only-of-type {\n",
       "        vertical-align: middle;\n",
       "    }\n",
       "\n",
       "    .dataframe tbody tr th {\n",
       "        vertical-align: top;\n",
       "    }\n",
       "\n",
       "    .dataframe thead th {\n",
       "        text-align: right;\n",
       "    }\n",
       "</style>\n",
       "<table border=\"1\" class=\"dataframe\">\n",
       "  <thead>\n",
       "    <tr style=\"text-align: right;\">\n",
       "      <th></th>\n",
       "      <th>Column Name</th>\n",
       "      <th>Missing Value %</th>\n",
       "    </tr>\n",
       "  </thead>\n",
       "  <tbody>\n",
       "    <tr>\n",
       "      <th>4</th>\n",
       "      <td>Model</td>\n",
       "      <td>0.006494</td>\n",
       "    </tr>\n",
       "    <tr>\n",
       "      <th>11</th>\n",
       "      <td>County</td>\n",
       "      <td>0.077541</td>\n",
       "    </tr>\n",
       "    <tr>\n",
       "      <th>12</th>\n",
       "      <td>City</td>\n",
       "      <td>0.010122</td>\n",
       "    </tr>\n",
       "    <tr>\n",
       "      <th>13</th>\n",
       "      <td>Zip</td>\n",
       "      <td>0.004393</td>\n",
       "    </tr>\n",
       "    <tr>\n",
       "      <th>17</th>\n",
       "      <td>Sale Date</td>\n",
       "      <td>68.834500</td>\n",
       "    </tr>\n",
       "    <tr>\n",
       "      <th>19</th>\n",
       "      <td>State of Residence</td>\n",
       "      <td>0.085944</td>\n",
       "    </tr>\n",
       "    <tr>\n",
       "      <th>21</th>\n",
       "      <td>Legislative District</td>\n",
       "      <td>0.406994</td>\n",
       "    </tr>\n",
       "    <tr>\n",
       "      <th>22</th>\n",
       "      <td>2019 HB 2042 Clean Alternative Fuel Vehicle (C...</td>\n",
       "      <td>0.011650</td>\n",
       "    </tr>\n",
       "    <tr>\n",
       "      <th>28</th>\n",
       "      <td>Transportation Electrification Fee Paid</td>\n",
       "      <td>17.680268</td>\n",
       "    </tr>\n",
       "    <tr>\n",
       "      <th>29</th>\n",
       "      <td>Hybrid Vehicle Electrification Fee Paid</td>\n",
       "      <td>17.680268</td>\n",
       "    </tr>\n",
       "  </tbody>\n",
       "</table>\n",
       "</div>"
      ],
      "text/plain": [
       "                                          Column Name  Missing Value %\n",
       "4                                               Model         0.006494\n",
       "11                                             County         0.077541\n",
       "12                                               City         0.010122\n",
       "13                                                Zip         0.004393\n",
       "17                                          Sale Date        68.834500\n",
       "19                                 State of Residence         0.085944\n",
       "21                               Legislative District         0.406994\n",
       "22  2019 HB 2042 Clean Alternative Fuel Vehicle (C...         0.011650\n",
       "28            Transportation Electrification Fee Paid        17.680268\n",
       "29            Hybrid Vehicle Electrification Fee Paid        17.680268"
      ]
     },
     "execution_count": 13,
     "metadata": {},
     "output_type": "execute_result"
    }
   ],
   "source": [
    "missing_df"
   ]
  },
  {
   "cell_type": "markdown",
   "metadata": {},
   "source": [
    "#### Imputing for County"
   ]
  },
  {
   "cell_type": "code",
   "execution_count": 15,
   "metadata": {},
   "outputs": [],
   "source": [
    "df.County.fillna(df.County.mode().iloc[0],inplace=True)"
   ]
  },
  {
   "cell_type": "code",
   "execution_count": 16,
   "metadata": {},
   "outputs": [
    {
     "data": {
      "text/plain": [
       "0"
      ]
     },
     "execution_count": 16,
     "metadata": {},
     "output_type": "execute_result"
    }
   ],
   "source": [
    "df.County.isnull().sum()"
   ]
  },
  {
   "cell_type": "markdown",
   "metadata": {},
   "source": [
    "#### Imputing for City"
   ]
  },
  {
   "cell_type": "code",
   "execution_count": 18,
   "metadata": {},
   "outputs": [
    {
     "data": {
      "text/plain": [
       "0"
      ]
     },
     "execution_count": 18,
     "metadata": {},
     "output_type": "execute_result"
    }
   ],
   "source": [
    "df.City.fillna(df.City.mode().iloc[0],inplace=True)\n",
    "df.City.isnull().sum()"
   ]
  },
  {
   "cell_type": "markdown",
   "metadata": {},
   "source": [
    "#### Imputing for Zip"
   ]
  },
  {
   "cell_type": "code",
   "execution_count": 20,
   "metadata": {},
   "outputs": [
    {
     "data": {
      "text/plain": [
       "0"
      ]
     },
     "execution_count": 20,
     "metadata": {},
     "output_type": "execute_result"
    }
   ],
   "source": [
    "df.Zip.fillna(df.Zip.mode().iloc[0],inplace=True)\n",
    "df.Zip.isnull().sum()"
   ]
  },
  {
   "cell_type": "markdown",
   "metadata": {},
   "source": [
    "#### Converting Zip datatype"
   ]
  },
  {
   "cell_type": "code",
   "execution_count": 21,
   "metadata": {},
   "outputs": [],
   "source": [
    "df.Zip = df.Zip.astype('int64')"
   ]
  },
  {
   "cell_type": "code",
   "execution_count": 22,
   "metadata": {},
   "outputs": [
    {
     "data": {
      "text/plain": [
       "dtype('int64')"
      ]
     },
     "execution_count": 22,
     "metadata": {},
     "output_type": "execute_result"
    }
   ],
   "source": [
    "df.Zip.dtypes"
   ]
  },
  {
   "cell_type": "markdown",
   "metadata": {},
   "source": [
    "#### Imputing for State"
   ]
  },
  {
   "cell_type": "code",
   "execution_count": 24,
   "metadata": {},
   "outputs": [
    {
     "data": {
      "text/plain": [
       "0"
      ]
     },
     "execution_count": 24,
     "metadata": {},
     "output_type": "execute_result"
    }
   ],
   "source": [
    "df['State of Residence'].fillna(df['State of Residence'].mode().iloc[0],inplace=True)\n",
    "df['State of Residence'].isnull().sum()"
   ]
  },
  {
   "cell_type": "code",
   "execution_count": 6,
   "metadata": {},
   "outputs": [],
   "source": [
    "#### Imputing for Legislative District"
   ]
  },
  {
   "cell_type": "code",
   "execution_count": 26,
   "metadata": {},
   "outputs": [
    {
     "data": {
      "text/plain": [
       "0"
      ]
     },
     "execution_count": 26,
     "metadata": {},
     "output_type": "execute_result"
    }
   ],
   "source": [
    "df['Legislative District'].fillna(df['Legislative District'].mode().iloc[0],inplace=True)\n",
    "df['Legislative District'].isnull().sum()"
   ]
  },
  {
   "cell_type": "code",
   "execution_count": 27,
   "metadata": {},
   "outputs": [],
   "source": [
    "df['Legislative District'] = df['Legislative District'].astype('int64') #converting datatype"
   ]
  },
  {
   "cell_type": "markdown",
   "metadata": {},
   "source": [
    "#### Imputing for 2019 HB 2042 Clean Alternative Fuel Vehicle (CAFV) Eligibility"
   ]
  },
  {
   "cell_type": "code",
   "execution_count": 29,
   "metadata": {},
   "outputs": [
    {
     "data": {
      "text/plain": [
       "0"
      ]
     },
     "execution_count": 29,
     "metadata": {},
     "output_type": "execute_result"
    }
   ],
   "source": [
    "df['2019 HB 2042 Clean Alternative Fuel Vehicle (CAFV) Eligibility'].fillna(df['2019 HB 2042 Clean Alternative Fuel Vehicle (CAFV) Eligibility'].mode().iloc[0],inplace=True)\n",
    "df['2019 HB 2042 Clean Alternative Fuel Vehicle (CAFV) Eligibility'].isnull().sum()"
   ]
  },
  {
   "cell_type": "markdown",
   "metadata": {},
   "source": [
    "#### Imputing for Transportation Electrification Fee Paid"
   ]
  },
  {
   "cell_type": "code",
   "execution_count": 30,
   "metadata": {},
   "outputs": [
    {
     "data": {
      "text/plain": [
       "No                37.649137\n",
       "Yes               23.305226\n",
       "Not Applicable    21.365368\n",
       "Name: Transportation Electrification Fee Paid, dtype: float64"
      ]
     },
     "execution_count": 30,
     "metadata": {},
     "output_type": "execute_result"
    }
   ],
   "source": [
    "df['Transportation Electrification Fee Paid'].value_counts()/len(df)*100"
   ]
  },
  {
   "cell_type": "code",
   "execution_count": 31,
   "metadata": {},
   "outputs": [
    {
     "data": {
      "text/plain": [
       "0"
      ]
     },
     "execution_count": 31,
     "metadata": {},
     "output_type": "execute_result"
    }
   ],
   "source": [
    "df['Transportation Electrification Fee Paid'].fillna('Not Mentioned',inplace=True)\n",
    "df['Transportation Electrification Fee Paid'].isnull().sum()"
   ]
  },
  {
   "cell_type": "markdown",
   "metadata": {},
   "source": [
    "#### Imputing for Hybrid Vehicle Electrification Fee Paid"
   ]
  },
  {
   "cell_type": "code",
   "execution_count": 32,
   "metadata": {},
   "outputs": [
    {
     "data": {
      "text/plain": [
       "No                55.842206\n",
       "Not Applicable    21.365368\n",
       "Yes                5.112157\n",
       "Name: Hybrid Vehicle Electrification Fee Paid, dtype: float64"
      ]
     },
     "execution_count": 32,
     "metadata": {},
     "output_type": "execute_result"
    }
   ],
   "source": [
    "df['Hybrid Vehicle Electrification Fee Paid'].value_counts()/len(df)*100"
   ]
  },
  {
   "cell_type": "code",
   "execution_count": 33,
   "metadata": {},
   "outputs": [
    {
     "data": {
      "text/plain": [
       "0"
      ]
     },
     "execution_count": 33,
     "metadata": {},
     "output_type": "execute_result"
    }
   ],
   "source": [
    "df['Hybrid Vehicle Electrification Fee Paid'].fillna('Not Mentioned',inplace=True)\n",
    "df['Hybrid Vehicle Electrification Fee Paid'].isnull().sum()"
   ]
  },
  {
   "cell_type": "code",
   "execution_count": 34,
   "metadata": {},
   "outputs": [
    {
     "data": {
      "text/plain": [
       "Model            34\n",
       "Sale Date    360414\n",
       "dtype: int64"
      ]
     },
     "execution_count": 34,
     "metadata": {},
     "output_type": "execute_result"
    }
   ],
   "source": [
    "df.isnull().sum()[df.isnull().sum()>0]"
   ]
  },
  {
   "cell_type": "code",
   "execution_count": 35,
   "metadata": {},
   "outputs": [],
   "source": [
    "#Sale Date has 67% missing values but we cannot lose the data. We assume that the Sale Date is only available for cars that have been sold and then registered.\n",
    "#Sale price is set to 0 as it indicates that the sale price was not available."
   ]
  },
  {
   "cell_type": "code",
   "execution_count": 41,
   "metadata": {},
   "outputs": [
    {
     "name": "stderr",
     "output_type": "stream",
     "text": [
      "  0%|                                                                                       | 0/523595 [00:00<?, ?it/s]C:\\Users\\Dhruv\\Anaconda3\\lib\\site-packages\\ipykernel_launcher.py:2: SettingWithCopyWarning: \n",
      "A value is trying to be set on a copy of a slice from a DataFrame\n",
      "\n",
      "See the caveats in the documentation: https://pandas.pydata.org/pandas-docs/stable/user_guide/indexing.html#returning-a-view-versus-a-copy\n",
      "  \n",
      "100%|█████████████████████████████████████████████████████████████████████████| 523595/523595 [16:37<00:00, 525.13it/s]\n"
     ]
    }
   ],
   "source": [
    "for i in tqdm(range(len(df))):\n",
    "    df['Sale Date'][i] = str(df['Sale Date'][i]).replace('nan','unavailable')"
   ]
  },
  {
   "cell_type": "markdown",
   "metadata": {},
   "source": [
    "#### Dataframe for Sales"
   ]
  },
  {
   "cell_type": "code",
   "execution_count": 42,
   "metadata": {},
   "outputs": [],
   "source": [
    "df_sales = df[df['Sale Date'] != 'unavailable']"
   ]
  },
  {
   "cell_type": "code",
   "execution_count": 43,
   "metadata": {},
   "outputs": [
    {
     "data": {
      "text/plain": [
       "(163181, 30)"
      ]
     },
     "execution_count": 43,
     "metadata": {},
     "output_type": "execute_result"
    }
   ],
   "source": [
    "df_sales.shape"
   ]
  },
  {
   "cell_type": "code",
   "execution_count": 44,
   "metadata": {},
   "outputs": [],
   "source": [
    "df_sales = df_sales[df_sales['Sale Price']>0]"
   ]
  },
  {
   "cell_type": "code",
   "execution_count": 45,
   "metadata": {},
   "outputs": [
    {
     "data": {
      "text/plain": [
       "(106039, 30)"
      ]
     },
     "execution_count": 45,
     "metadata": {},
     "output_type": "execute_result"
    }
   ],
   "source": [
    "df_sales.shape"
   ]
  },
  {
   "cell_type": "code",
   "execution_count": 46,
   "metadata": {},
   "outputs": [],
   "source": [
    "df_sales = df_sales[['DOL Vehicle ID','Make','Model','Model Year','New or Used Vehicle','Sale Price','Sale Date']]"
   ]
  },
  {
   "cell_type": "code",
   "execution_count": 47,
   "metadata": {},
   "outputs": [],
   "source": [
    "df_sales = df_sales.drop_duplicates(keep = 'first')"
   ]
  },
  {
   "cell_type": "code",
   "execution_count": 48,
   "metadata": {},
   "outputs": [],
   "source": [
    "df_sales = df_sales.reset_index()\n",
    "df_sales.drop('index',axis = 1, inplace = True)"
   ]
  },
  {
   "cell_type": "code",
   "execution_count": 49,
   "metadata": {},
   "outputs": [
    {
     "data": {
      "text/html": [
       "<div>\n",
       "<style scoped>\n",
       "    .dataframe tbody tr th:only-of-type {\n",
       "        vertical-align: middle;\n",
       "    }\n",
       "\n",
       "    .dataframe tbody tr th {\n",
       "        vertical-align: top;\n",
       "    }\n",
       "\n",
       "    .dataframe thead th {\n",
       "        text-align: right;\n",
       "    }\n",
       "</style>\n",
       "<table border=\"1\" class=\"dataframe\">\n",
       "  <thead>\n",
       "    <tr style=\"text-align: right;\">\n",
       "      <th></th>\n",
       "      <th>DOL Vehicle ID</th>\n",
       "      <th>Make</th>\n",
       "      <th>Model</th>\n",
       "      <th>Model Year</th>\n",
       "      <th>New or Used Vehicle</th>\n",
       "      <th>Sale Price</th>\n",
       "      <th>Sale Date</th>\n",
       "    </tr>\n",
       "  </thead>\n",
       "  <tbody>\n",
       "    <tr>\n",
       "      <th>0</th>\n",
       "      <td>151705347</td>\n",
       "      <td>TESLA</td>\n",
       "      <td>Model S</td>\n",
       "      <td>2016</td>\n",
       "      <td>Used</td>\n",
       "      <td>53000</td>\n",
       "      <td>April 11 2019</td>\n",
       "    </tr>\n",
       "    <tr>\n",
       "      <th>1</th>\n",
       "      <td>447270232</td>\n",
       "      <td>BMW</td>\n",
       "      <td>i3</td>\n",
       "      <td>2019</td>\n",
       "      <td>New</td>\n",
       "      <td>45970</td>\n",
       "      <td>March 03 2019</td>\n",
       "    </tr>\n",
       "    <tr>\n",
       "      <th>2</th>\n",
       "      <td>249681736</td>\n",
       "      <td>TESLA</td>\n",
       "      <td>Model 3</td>\n",
       "      <td>2019</td>\n",
       "      <td>New</td>\n",
       "      <td>49600</td>\n",
       "      <td>June 05 2019</td>\n",
       "    </tr>\n",
       "    <tr>\n",
       "      <th>3</th>\n",
       "      <td>305739780</td>\n",
       "      <td>TESLA</td>\n",
       "      <td>Model 3</td>\n",
       "      <td>2019</td>\n",
       "      <td>New</td>\n",
       "      <td>57600</td>\n",
       "      <td>March 02 2019</td>\n",
       "    </tr>\n",
       "    <tr>\n",
       "      <th>4</th>\n",
       "      <td>475427319</td>\n",
       "      <td>TESLA</td>\n",
       "      <td>Model 3</td>\n",
       "      <td>2019</td>\n",
       "      <td>New</td>\n",
       "      <td>52410</td>\n",
       "      <td>March 30 2019</td>\n",
       "    </tr>\n",
       "  </tbody>\n",
       "</table>\n",
       "</div>"
      ],
      "text/plain": [
       "   DOL Vehicle ID   Make    Model  Model Year New or Used Vehicle  Sale Price  \\\n",
       "0       151705347  TESLA  Model S        2016                Used       53000   \n",
       "1       447270232    BMW       i3        2019                 New       45970   \n",
       "2       249681736  TESLA  Model 3        2019                 New       49600   \n",
       "3       305739780  TESLA  Model 3        2019                 New       57600   \n",
       "4       475427319  TESLA  Model 3        2019                 New       52410   \n",
       "\n",
       "       Sale Date  \n",
       "0  April 11 2019  \n",
       "1  March 03 2019  \n",
       "2   June 05 2019  \n",
       "3  March 02 2019  \n",
       "4  March 30 2019  "
      ]
     },
     "execution_count": 49,
     "metadata": {},
     "output_type": "execute_result"
    }
   ],
   "source": [
    "df_sales.head(5)"
   ]
  },
  {
   "cell_type": "code",
   "execution_count": 50,
   "metadata": {},
   "outputs": [
    {
     "data": {
      "text/plain": [
       "(105141, 7)"
      ]
     },
     "execution_count": 50,
     "metadata": {},
     "output_type": "execute_result"
    }
   ],
   "source": [
    "df_sales.shape"
   ]
  },
  {
   "cell_type": "code",
   "execution_count": 51,
   "metadata": {},
   "outputs": [
    {
     "data": {
      "text/plain": [
       "DOL Vehicle ID         93503\n",
       "Make                      34\n",
       "Model                    114\n",
       "Model Year                18\n",
       "New or Used Vehicle        2\n",
       "Sale Price             26375\n",
       "Sale Date               1961\n",
       "dtype: int64"
      ]
     },
     "execution_count": 51,
     "metadata": {},
     "output_type": "execute_result"
    }
   ],
   "source": [
    "df_sales.nunique()"
   ]
  },
  {
   "cell_type": "code",
   "execution_count": 52,
   "metadata": {},
   "outputs": [
    {
     "data": {
      "text/plain": [
       "DOL Vehicle ID          int64\n",
       "Make                   object\n",
       "Model                  object\n",
       "Model Year              int64\n",
       "New or Used Vehicle    object\n",
       "Sale Price              int64\n",
       "Sale Date              object\n",
       "dtype: object"
      ]
     },
     "execution_count": 52,
     "metadata": {},
     "output_type": "execute_result"
    }
   ],
   "source": [
    "df_sales.dtypes"
   ]
  },
  {
   "cell_type": "markdown",
   "metadata": {},
   "source": [
    "#### Converting datatype for Sale Date"
   ]
  },
  {
   "cell_type": "code",
   "execution_count": 53,
   "metadata": {},
   "outputs": [],
   "source": [
    "df_sales['Sale Date'] = df_sales['Sale Date'].apply(lambda row: row.replace('January', '01'))\n",
    "df_sales['Sale Date'] = df_sales['Sale Date'].apply(lambda row: row.replace('February', '02'))\n",
    "df_sales['Sale Date'] = df_sales['Sale Date'].apply(lambda row: row.replace('March', '03'))\n",
    "df_sales['Sale Date'] = df_sales['Sale Date'].apply(lambda row: row.replace('April', '04'))\n",
    "df_sales['Sale Date'] = df_sales['Sale Date'].apply(lambda row: row.replace('May', '05'))\n",
    "df_sales['Sale Date'] = df_sales['Sale Date'].apply(lambda row: row.replace('June', '06'))\n",
    "df_sales['Sale Date'] = df_sales['Sale Date'].apply(lambda row: row.replace('July', '07'))\n",
    "df_sales['Sale Date'] = df_sales['Sale Date'].apply(lambda row: row.replace('August', '08'))\n",
    "df_sales['Sale Date'] = df_sales['Sale Date'].apply(lambda row: row.replace('September', '09'))\n",
    "df_sales['Sale Date'] = df_sales['Sale Date'].apply(lambda row: row.replace('October', '10'))\n",
    "df_sales['Sale Date'] = df_sales['Sale Date'].apply(lambda row: row.replace('November', '11'))\n",
    "df_sales['Sale Date'] = df_sales['Sale Date'].apply(lambda row: row.replace('December', '12'))\n",
    "df_sales['Sale Date'] = df_sales['Sale Date'].apply(lambda row: row.replace(' ', '/'))"
   ]
  },
  {
   "cell_type": "code",
   "execution_count": 54,
   "metadata": {},
   "outputs": [
    {
     "data": {
      "text/html": [
       "<div>\n",
       "<style scoped>\n",
       "    .dataframe tbody tr th:only-of-type {\n",
       "        vertical-align: middle;\n",
       "    }\n",
       "\n",
       "    .dataframe tbody tr th {\n",
       "        vertical-align: top;\n",
       "    }\n",
       "\n",
       "    .dataframe thead th {\n",
       "        text-align: right;\n",
       "    }\n",
       "</style>\n",
       "<table border=\"1\" class=\"dataframe\">\n",
       "  <thead>\n",
       "    <tr style=\"text-align: right;\">\n",
       "      <th></th>\n",
       "      <th>DOL Vehicle ID</th>\n",
       "      <th>Make</th>\n",
       "      <th>Model</th>\n",
       "      <th>Model Year</th>\n",
       "      <th>New or Used Vehicle</th>\n",
       "      <th>Sale Price</th>\n",
       "      <th>Sale Date</th>\n",
       "    </tr>\n",
       "  </thead>\n",
       "  <tbody>\n",
       "    <tr>\n",
       "      <th>0</th>\n",
       "      <td>151705347</td>\n",
       "      <td>TESLA</td>\n",
       "      <td>Model S</td>\n",
       "      <td>2016</td>\n",
       "      <td>Used</td>\n",
       "      <td>53000</td>\n",
       "      <td>04/11/2019</td>\n",
       "    </tr>\n",
       "    <tr>\n",
       "      <th>1</th>\n",
       "      <td>447270232</td>\n",
       "      <td>BMW</td>\n",
       "      <td>i3</td>\n",
       "      <td>2019</td>\n",
       "      <td>New</td>\n",
       "      <td>45970</td>\n",
       "      <td>03/03/2019</td>\n",
       "    </tr>\n",
       "    <tr>\n",
       "      <th>2</th>\n",
       "      <td>249681736</td>\n",
       "      <td>TESLA</td>\n",
       "      <td>Model 3</td>\n",
       "      <td>2019</td>\n",
       "      <td>New</td>\n",
       "      <td>49600</td>\n",
       "      <td>06/05/2019</td>\n",
       "    </tr>\n",
       "    <tr>\n",
       "      <th>3</th>\n",
       "      <td>305739780</td>\n",
       "      <td>TESLA</td>\n",
       "      <td>Model 3</td>\n",
       "      <td>2019</td>\n",
       "      <td>New</td>\n",
       "      <td>57600</td>\n",
       "      <td>03/02/2019</td>\n",
       "    </tr>\n",
       "    <tr>\n",
       "      <th>4</th>\n",
       "      <td>475427319</td>\n",
       "      <td>TESLA</td>\n",
       "      <td>Model 3</td>\n",
       "      <td>2019</td>\n",
       "      <td>New</td>\n",
       "      <td>52410</td>\n",
       "      <td>03/30/2019</td>\n",
       "    </tr>\n",
       "  </tbody>\n",
       "</table>\n",
       "</div>"
      ],
      "text/plain": [
       "   DOL Vehicle ID   Make    Model  Model Year New or Used Vehicle  Sale Price  \\\n",
       "0       151705347  TESLA  Model S        2016                Used       53000   \n",
       "1       447270232    BMW       i3        2019                 New       45970   \n",
       "2       249681736  TESLA  Model 3        2019                 New       49600   \n",
       "3       305739780  TESLA  Model 3        2019                 New       57600   \n",
       "4       475427319  TESLA  Model 3        2019                 New       52410   \n",
       "\n",
       "    Sale Date  \n",
       "0  04/11/2019  \n",
       "1  03/03/2019  \n",
       "2  06/05/2019  \n",
       "3  03/02/2019  \n",
       "4  03/30/2019  "
      ]
     },
     "execution_count": 54,
     "metadata": {},
     "output_type": "execute_result"
    }
   ],
   "source": [
    "df_sales.head()"
   ]
  },
  {
   "cell_type": "code",
   "execution_count": 55,
   "metadata": {},
   "outputs": [],
   "source": [
    "df_sales['Sale Date'] = pd.to_datetime(df_sales['Sale Date'])"
   ]
  },
  {
   "cell_type": "code",
   "execution_count": 56,
   "metadata": {},
   "outputs": [
    {
     "data": {
      "text/plain": [
       "DOL Vehicle ID                  int64\n",
       "Make                           object\n",
       "Model                          object\n",
       "Model Year                      int64\n",
       "New or Used Vehicle            object\n",
       "Sale Price                      int64\n",
       "Sale Date              datetime64[ns]\n",
       "dtype: object"
      ]
     },
     "execution_count": 56,
     "metadata": {},
     "output_type": "execute_result"
    }
   ],
   "source": [
    "df_sales.dtypes"
   ]
  },
  {
   "cell_type": "markdown",
   "metadata": {},
   "source": [
    "#### Standardizing values for Make and Model"
   ]
  },
  {
   "cell_type": "code",
   "execution_count": 57,
   "metadata": {},
   "outputs": [],
   "source": [
    "df_sales['Make'] = df_sales['Make'].str.title()\n",
    "df_sales['Model'] = df_sales['Model'].str.title()"
   ]
  },
  {
   "cell_type": "code",
   "execution_count": 58,
   "metadata": {},
   "outputs": [
    {
     "data": {
      "text/html": [
       "<div>\n",
       "<style scoped>\n",
       "    .dataframe tbody tr th:only-of-type {\n",
       "        vertical-align: middle;\n",
       "    }\n",
       "\n",
       "    .dataframe tbody tr th {\n",
       "        vertical-align: top;\n",
       "    }\n",
       "\n",
       "    .dataframe thead th {\n",
       "        text-align: right;\n",
       "    }\n",
       "</style>\n",
       "<table border=\"1\" class=\"dataframe\">\n",
       "  <thead>\n",
       "    <tr style=\"text-align: right;\">\n",
       "      <th></th>\n",
       "      <th>DOL Vehicle ID</th>\n",
       "      <th>Make</th>\n",
       "      <th>Model</th>\n",
       "      <th>Model Year</th>\n",
       "      <th>New or Used Vehicle</th>\n",
       "      <th>Sale Price</th>\n",
       "      <th>Sale Date</th>\n",
       "    </tr>\n",
       "  </thead>\n",
       "  <tbody>\n",
       "    <tr>\n",
       "      <th>0</th>\n",
       "      <td>151705347</td>\n",
       "      <td>Tesla</td>\n",
       "      <td>Model S</td>\n",
       "      <td>2016</td>\n",
       "      <td>Used</td>\n",
       "      <td>53000</td>\n",
       "      <td>2019-04-11</td>\n",
       "    </tr>\n",
       "    <tr>\n",
       "      <th>1</th>\n",
       "      <td>447270232</td>\n",
       "      <td>Bmw</td>\n",
       "      <td>I3</td>\n",
       "      <td>2019</td>\n",
       "      <td>New</td>\n",
       "      <td>45970</td>\n",
       "      <td>2019-03-03</td>\n",
       "    </tr>\n",
       "    <tr>\n",
       "      <th>2</th>\n",
       "      <td>249681736</td>\n",
       "      <td>Tesla</td>\n",
       "      <td>Model 3</td>\n",
       "      <td>2019</td>\n",
       "      <td>New</td>\n",
       "      <td>49600</td>\n",
       "      <td>2019-06-05</td>\n",
       "    </tr>\n",
       "    <tr>\n",
       "      <th>3</th>\n",
       "      <td>305739780</td>\n",
       "      <td>Tesla</td>\n",
       "      <td>Model 3</td>\n",
       "      <td>2019</td>\n",
       "      <td>New</td>\n",
       "      <td>57600</td>\n",
       "      <td>2019-03-02</td>\n",
       "    </tr>\n",
       "    <tr>\n",
       "      <th>4</th>\n",
       "      <td>475427319</td>\n",
       "      <td>Tesla</td>\n",
       "      <td>Model 3</td>\n",
       "      <td>2019</td>\n",
       "      <td>New</td>\n",
       "      <td>52410</td>\n",
       "      <td>2019-03-30</td>\n",
       "    </tr>\n",
       "  </tbody>\n",
       "</table>\n",
       "</div>"
      ],
      "text/plain": [
       "   DOL Vehicle ID   Make    Model  Model Year New or Used Vehicle  Sale Price  \\\n",
       "0       151705347  Tesla  Model S        2016                Used       53000   \n",
       "1       447270232    Bmw       I3        2019                 New       45970   \n",
       "2       249681736  Tesla  Model 3        2019                 New       49600   \n",
       "3       305739780  Tesla  Model 3        2019                 New       57600   \n",
       "4       475427319  Tesla  Model 3        2019                 New       52410   \n",
       "\n",
       "   Sale Date  \n",
       "0 2019-04-11  \n",
       "1 2019-03-03  \n",
       "2 2019-06-05  \n",
       "3 2019-03-02  \n",
       "4 2019-03-30  "
      ]
     },
     "execution_count": 58,
     "metadata": {},
     "output_type": "execute_result"
    }
   ],
   "source": [
    "df_sales.head()"
   ]
  },
  {
   "cell_type": "markdown",
   "metadata": {},
   "source": [
    "#### Dataframe from Vehicles"
   ]
  },
  {
   "cell_type": "code",
   "execution_count": 205,
   "metadata": {},
   "outputs": [
    {
     "data": {
      "text/plain": [
       "408981"
      ]
     },
     "execution_count": 205,
     "metadata": {},
     "output_type": "execute_result"
    }
   ],
   "source": [
    "df['DOL Vehicle ID'].duplicated().sum() #duplicate rows since the data is based on transaction"
   ]
  },
  {
   "cell_type": "code",
   "execution_count": 206,
   "metadata": {},
   "outputs": [],
   "source": [
    "df_vehicle = df[df['Transaction Type']== 'Original Title'] #new data frame with title transaction"
   ]
  },
  {
   "cell_type": "code",
   "execution_count": 207,
   "metadata": {},
   "outputs": [
    {
     "data": {
      "text/plain": [
       "(113206, 30)"
      ]
     },
     "execution_count": 207,
     "metadata": {},
     "output_type": "execute_result"
    }
   ],
   "source": [
    "df_vehicle.shape"
   ]
  },
  {
   "cell_type": "code",
   "execution_count": 209,
   "metadata": {},
   "outputs": [],
   "source": [
    "df_vehicle = df_vehicle.sort_values(by = ['Transaction Year','DOL Vehicle ID']) #sorting dataframe so that we can get the first Transaction"
   ]
  },
  {
   "cell_type": "code",
   "execution_count": 210,
   "metadata": {},
   "outputs": [
    {
     "data": {
      "text/plain": [
       "817"
      ]
     },
     "execution_count": 210,
     "metadata": {},
     "output_type": "execute_result"
    }
   ],
   "source": [
    "df_vehicle['DOL Vehicle ID'].duplicated().sum() #duplicates"
   ]
  },
  {
   "cell_type": "code",
   "execution_count": 211,
   "metadata": {},
   "outputs": [],
   "source": [
    "df_vehicle= df_vehicle.drop_duplicates(subset=['DOL Vehicle ID'],keep = 'first') #removing duplicates"
   ]
  },
  {
   "cell_type": "code",
   "execution_count": 212,
   "metadata": {},
   "outputs": [
    {
     "data": {
      "text/plain": [
       "0"
      ]
     },
     "execution_count": 212,
     "metadata": {},
     "output_type": "execute_result"
    }
   ],
   "source": [
    "df_vehicle['DOL Vehicle ID'].duplicated().sum()# we have dataframe with all unique vehicle data"
   ]
  },
  {
   "cell_type": "code",
   "execution_count": 213,
   "metadata": {},
   "outputs": [
    {
     "data": {
      "text/plain": [
       "Index(['Clean Alternative Fuel Vehicle Type', 'VIN (1-10)', 'Model Year',\n",
       "       'Make', 'Model', 'New or Used Vehicle', 'Sale Price',\n",
       "       'DOL Transaction Date', 'Transaction Type', 'Transaction Year',\n",
       "       'Electric Vehicle Fee Paid', 'County', 'City', 'Zip', 'Electric Range',\n",
       "       'Base MSRP', '2015 HB 2778 Exemption Eligibility', 'Sale Date',\n",
       "       'Vehicle Primary Use', 'State of Residence', 'DOL Vehicle ID',\n",
       "       'Legislative District',\n",
       "       '2019 HB 2042 Clean Alternative Fuel Vehicle (CAFV) Eligibility',\n",
       "       'Meets 2019 HB 2042 Electric Range Requirement',\n",
       "       'Meets 2019 HB 2042 Sale Date Requirement',\n",
       "       'Meets 2019 HB 2042 Sale Price/Value Requirement', 'Odometer Reading',\n",
       "       'Odometer Code', 'Transportation Electrification Fee Paid',\n",
       "       'Hybrid Vehicle Electrification Fee Paid'],\n",
       "      dtype='object')"
      ]
     },
     "execution_count": 213,
     "metadata": {},
     "output_type": "execute_result"
    }
   ],
   "source": [
    "df_vehicle.columns"
   ]
  },
  {
   "cell_type": "code",
   "execution_count": 214,
   "metadata": {},
   "outputs": [],
   "source": [
    "df_vehicle = df_vehicle[['DOL Vehicle ID','Make','Model','Model Year','Clean Alternative Fuel Vehicle Type','County', 'City', 'Zip','State of Residence','Legislative District','Vehicle Primary Use','Electric Range']]"
   ]
  },
  {
   "cell_type": "code",
   "execution_count": 215,
   "metadata": {},
   "outputs": [],
   "source": [
    "df_vehicle = df_vehicle.reset_index()\n",
    "df_vehicle.drop('index',axis = 1, inplace = True)"
   ]
  },
  {
   "cell_type": "code",
   "execution_count": 216,
   "metadata": {},
   "outputs": [
    {
     "data": {
      "text/html": [
       "<div>\n",
       "<style scoped>\n",
       "    .dataframe tbody tr th:only-of-type {\n",
       "        vertical-align: middle;\n",
       "    }\n",
       "\n",
       "    .dataframe tbody tr th {\n",
       "        vertical-align: top;\n",
       "    }\n",
       "\n",
       "    .dataframe thead th {\n",
       "        text-align: right;\n",
       "    }\n",
       "</style>\n",
       "<table border=\"1\" class=\"dataframe\">\n",
       "  <thead>\n",
       "    <tr style=\"text-align: right;\">\n",
       "      <th></th>\n",
       "      <th>DOL Vehicle ID</th>\n",
       "      <th>Make</th>\n",
       "      <th>Model</th>\n",
       "      <th>Model Year</th>\n",
       "      <th>Clean Alternative Fuel Vehicle Type</th>\n",
       "      <th>County</th>\n",
       "      <th>City</th>\n",
       "      <th>Zip</th>\n",
       "      <th>State of Residence</th>\n",
       "      <th>Legislative District</th>\n",
       "      <th>Vehicle Primary Use</th>\n",
       "      <th>Electric Range</th>\n",
       "    </tr>\n",
       "  </thead>\n",
       "  <tbody>\n",
       "    <tr>\n",
       "      <th>0</th>\n",
       "      <td>2343918</td>\n",
       "      <td>TESLA</td>\n",
       "      <td>Roadster</td>\n",
       "      <td>2010</td>\n",
       "      <td>Battery Electric Vehicle (BEV)</td>\n",
       "      <td>King</td>\n",
       "      <td>KIRKLAND</td>\n",
       "      <td>98033</td>\n",
       "      <td>WA</td>\n",
       "      <td>48</td>\n",
       "      <td>Passenger</td>\n",
       "      <td>245</td>\n",
       "    </tr>\n",
       "    <tr>\n",
       "      <th>1</th>\n",
       "      <td>5880752</td>\n",
       "      <td>FORD</td>\n",
       "      <td>Ranger</td>\n",
       "      <td>1998</td>\n",
       "      <td>Battery Electric Vehicle (BEV)</td>\n",
       "      <td>Whatcom</td>\n",
       "      <td>BELLINGHAM</td>\n",
       "      <td>98225</td>\n",
       "      <td>WA</td>\n",
       "      <td>42</td>\n",
       "      <td>Truck</td>\n",
       "      <td>58</td>\n",
       "    </tr>\n",
       "    <tr>\n",
       "      <th>2</th>\n",
       "      <td>6507896</td>\n",
       "      <td>CHEVROLET</td>\n",
       "      <td>S-10 Pickup</td>\n",
       "      <td>1998</td>\n",
       "      <td>Battery Electric Vehicle (BEV)</td>\n",
       "      <td>King</td>\n",
       "      <td>SEATTLE</td>\n",
       "      <td>98144</td>\n",
       "      <td>WA</td>\n",
       "      <td>37</td>\n",
       "      <td>Truck</td>\n",
       "      <td>33</td>\n",
       "    </tr>\n",
       "    <tr>\n",
       "      <th>3</th>\n",
       "      <td>104423070</td>\n",
       "      <td>WHEEGO ELECTRIC CARS</td>\n",
       "      <td>LIFE</td>\n",
       "      <td>2011</td>\n",
       "      <td>Battery Electric Vehicle (BEV)</td>\n",
       "      <td>King</td>\n",
       "      <td>SEATTLE</td>\n",
       "      <td>98116</td>\n",
       "      <td>WA</td>\n",
       "      <td>34</td>\n",
       "      <td>Medium-Speed Electric Vehicle</td>\n",
       "      <td>100</td>\n",
       "    </tr>\n",
       "    <tr>\n",
       "      <th>4</th>\n",
       "      <td>106169542</td>\n",
       "      <td>TESLA</td>\n",
       "      <td>Roadster</td>\n",
       "      <td>2010</td>\n",
       "      <td>Battery Electric Vehicle (BEV)</td>\n",
       "      <td>Clark</td>\n",
       "      <td>VANCOUVER</td>\n",
       "      <td>98664</td>\n",
       "      <td>WA</td>\n",
       "      <td>49</td>\n",
       "      <td>Passenger</td>\n",
       "      <td>245</td>\n",
       "    </tr>\n",
       "  </tbody>\n",
       "</table>\n",
       "</div>"
      ],
      "text/plain": [
       "   DOL Vehicle ID                  Make        Model  Model Year  \\\n",
       "0         2343918                 TESLA     Roadster        2010   \n",
       "1         5880752                  FORD       Ranger        1998   \n",
       "2         6507896             CHEVROLET  S-10 Pickup        1998   \n",
       "3       104423070  WHEEGO ELECTRIC CARS         LIFE        2011   \n",
       "4       106169542                 TESLA     Roadster        2010   \n",
       "\n",
       "  Clean Alternative Fuel Vehicle Type   County        City    Zip  \\\n",
       "0      Battery Electric Vehicle (BEV)     King    KIRKLAND  98033   \n",
       "1      Battery Electric Vehicle (BEV)  Whatcom  BELLINGHAM  98225   \n",
       "2      Battery Electric Vehicle (BEV)     King     SEATTLE  98144   \n",
       "3      Battery Electric Vehicle (BEV)     King     SEATTLE  98116   \n",
       "4      Battery Electric Vehicle (BEV)    Clark   VANCOUVER  98664   \n",
       "\n",
       "  State of Residence  Legislative District            Vehicle Primary Use  \\\n",
       "0                 WA                    48                      Passenger   \n",
       "1                 WA                    42                          Truck   \n",
       "2                 WA                    37                          Truck   \n",
       "3                 WA                    34  Medium-Speed Electric Vehicle   \n",
       "4                 WA                    49                      Passenger   \n",
       "\n",
       "   Electric Range  \n",
       "0             245  \n",
       "1              58  \n",
       "2              33  \n",
       "3             100  \n",
       "4             245  "
      ]
     },
     "execution_count": 216,
     "metadata": {},
     "output_type": "execute_result"
    }
   ],
   "source": [
    "df_vehicle.head()"
   ]
  },
  {
   "cell_type": "code",
   "execution_count": 217,
   "metadata": {},
   "outputs": [
    {
     "data": {
      "text/plain": [
       "(112389, 12)"
      ]
     },
     "execution_count": 217,
     "metadata": {},
     "output_type": "execute_result"
    }
   ],
   "source": [
    "df_vehicle.shape"
   ]
  },
  {
   "cell_type": "code",
   "execution_count": 218,
   "metadata": {},
   "outputs": [
    {
     "data": {
      "text/plain": [
       "DOL Vehicle ID                         112389\n",
       "Make                                       36\n",
       "Model                                     123\n",
       "Model Year                                 22\n",
       "Clean Alternative Fuel Vehicle Type         2\n",
       "County                                    113\n",
       "City                                      644\n",
       "Zip                                       786\n",
       "State of Residence                         39\n",
       "Legislative District                       49\n",
       "Vehicle Primary Use                        11\n",
       "Electric Range                            103\n",
       "dtype: int64"
      ]
     },
     "execution_count": 218,
     "metadata": {},
     "output_type": "execute_result"
    }
   ],
   "source": [
    "df_vehicle.nunique()"
   ]
  },
  {
   "cell_type": "code",
   "execution_count": 219,
   "metadata": {},
   "outputs": [
    {
     "data": {
      "text/plain": [
       "DOL Vehicle ID                          int64\n",
       "Make                                   object\n",
       "Model                                  object\n",
       "Model Year                              int64\n",
       "Clean Alternative Fuel Vehicle Type    object\n",
       "County                                 object\n",
       "City                                   object\n",
       "Zip                                     int64\n",
       "State of Residence                     object\n",
       "Legislative District                    int64\n",
       "Vehicle Primary Use                    object\n",
       "Electric Range                          int64\n",
       "dtype: object"
      ]
     },
     "execution_count": 219,
     "metadata": {},
     "output_type": "execute_result"
    }
   ],
   "source": [
    "df_vehicle.dtypes"
   ]
  },
  {
   "cell_type": "markdown",
   "metadata": {},
   "source": [
    "#### Standardizing the values"
   ]
  },
  {
   "cell_type": "code",
   "execution_count": 220,
   "metadata": {},
   "outputs": [],
   "source": [
    "df_vehicle['Make'] = df_vehicle['Make'].str.title()\n",
    "df_vehicle['Model'] = df_vehicle['Model'].str.title()\n",
    "df_vehicle['City'] = df_vehicle['City'].str.title()"
   ]
  },
  {
   "cell_type": "code",
   "execution_count": 221,
   "metadata": {},
   "outputs": [
    {
     "data": {
      "text/html": [
       "<div>\n",
       "<style scoped>\n",
       "    .dataframe tbody tr th:only-of-type {\n",
       "        vertical-align: middle;\n",
       "    }\n",
       "\n",
       "    .dataframe tbody tr th {\n",
       "        vertical-align: top;\n",
       "    }\n",
       "\n",
       "    .dataframe thead th {\n",
       "        text-align: right;\n",
       "    }\n",
       "</style>\n",
       "<table border=\"1\" class=\"dataframe\">\n",
       "  <thead>\n",
       "    <tr style=\"text-align: right;\">\n",
       "      <th></th>\n",
       "      <th>DOL Vehicle ID</th>\n",
       "      <th>Make</th>\n",
       "      <th>Model</th>\n",
       "      <th>Model Year</th>\n",
       "      <th>Clean Alternative Fuel Vehicle Type</th>\n",
       "      <th>County</th>\n",
       "      <th>City</th>\n",
       "      <th>Zip</th>\n",
       "      <th>State of Residence</th>\n",
       "      <th>Legislative District</th>\n",
       "      <th>Vehicle Primary Use</th>\n",
       "      <th>Electric Range</th>\n",
       "    </tr>\n",
       "  </thead>\n",
       "  <tbody>\n",
       "    <tr>\n",
       "      <th>0</th>\n",
       "      <td>2343918</td>\n",
       "      <td>Tesla</td>\n",
       "      <td>Roadster</td>\n",
       "      <td>2010</td>\n",
       "      <td>Battery Electric Vehicle (BEV)</td>\n",
       "      <td>King</td>\n",
       "      <td>Kirkland</td>\n",
       "      <td>98033</td>\n",
       "      <td>WA</td>\n",
       "      <td>48</td>\n",
       "      <td>Passenger</td>\n",
       "      <td>245</td>\n",
       "    </tr>\n",
       "    <tr>\n",
       "      <th>1</th>\n",
       "      <td>5880752</td>\n",
       "      <td>Ford</td>\n",
       "      <td>Ranger</td>\n",
       "      <td>1998</td>\n",
       "      <td>Battery Electric Vehicle (BEV)</td>\n",
       "      <td>Whatcom</td>\n",
       "      <td>Bellingham</td>\n",
       "      <td>98225</td>\n",
       "      <td>WA</td>\n",
       "      <td>42</td>\n",
       "      <td>Truck</td>\n",
       "      <td>58</td>\n",
       "    </tr>\n",
       "    <tr>\n",
       "      <th>2</th>\n",
       "      <td>6507896</td>\n",
       "      <td>Chevrolet</td>\n",
       "      <td>S-10 Pickup</td>\n",
       "      <td>1998</td>\n",
       "      <td>Battery Electric Vehicle (BEV)</td>\n",
       "      <td>King</td>\n",
       "      <td>Seattle</td>\n",
       "      <td>98144</td>\n",
       "      <td>WA</td>\n",
       "      <td>37</td>\n",
       "      <td>Truck</td>\n",
       "      <td>33</td>\n",
       "    </tr>\n",
       "    <tr>\n",
       "      <th>3</th>\n",
       "      <td>104423070</td>\n",
       "      <td>Wheego Electric Cars</td>\n",
       "      <td>Life</td>\n",
       "      <td>2011</td>\n",
       "      <td>Battery Electric Vehicle (BEV)</td>\n",
       "      <td>King</td>\n",
       "      <td>Seattle</td>\n",
       "      <td>98116</td>\n",
       "      <td>WA</td>\n",
       "      <td>34</td>\n",
       "      <td>Medium-Speed Electric Vehicle</td>\n",
       "      <td>100</td>\n",
       "    </tr>\n",
       "    <tr>\n",
       "      <th>4</th>\n",
       "      <td>106169542</td>\n",
       "      <td>Tesla</td>\n",
       "      <td>Roadster</td>\n",
       "      <td>2010</td>\n",
       "      <td>Battery Electric Vehicle (BEV)</td>\n",
       "      <td>Clark</td>\n",
       "      <td>Vancouver</td>\n",
       "      <td>98664</td>\n",
       "      <td>WA</td>\n",
       "      <td>49</td>\n",
       "      <td>Passenger</td>\n",
       "      <td>245</td>\n",
       "    </tr>\n",
       "  </tbody>\n",
       "</table>\n",
       "</div>"
      ],
      "text/plain": [
       "   DOL Vehicle ID                  Make        Model  Model Year  \\\n",
       "0         2343918                 Tesla     Roadster        2010   \n",
       "1         5880752                  Ford       Ranger        1998   \n",
       "2         6507896             Chevrolet  S-10 Pickup        1998   \n",
       "3       104423070  Wheego Electric Cars         Life        2011   \n",
       "4       106169542                 Tesla     Roadster        2010   \n",
       "\n",
       "  Clean Alternative Fuel Vehicle Type   County        City    Zip  \\\n",
       "0      Battery Electric Vehicle (BEV)     King    Kirkland  98033   \n",
       "1      Battery Electric Vehicle (BEV)  Whatcom  Bellingham  98225   \n",
       "2      Battery Electric Vehicle (BEV)     King     Seattle  98144   \n",
       "3      Battery Electric Vehicle (BEV)     King     Seattle  98116   \n",
       "4      Battery Electric Vehicle (BEV)    Clark   Vancouver  98664   \n",
       "\n",
       "  State of Residence  Legislative District            Vehicle Primary Use  \\\n",
       "0                 WA                    48                      Passenger   \n",
       "1                 WA                    42                          Truck   \n",
       "2                 WA                    37                          Truck   \n",
       "3                 WA                    34  Medium-Speed Electric Vehicle   \n",
       "4                 WA                    49                      Passenger   \n",
       "\n",
       "   Electric Range  \n",
       "0             245  \n",
       "1              58  \n",
       "2              33  \n",
       "3             100  \n",
       "4             245  "
      ]
     },
     "execution_count": 221,
     "metadata": {},
     "output_type": "execute_result"
    }
   ],
   "source": [
    "df_vehicle.head()"
   ]
  },
  {
   "cell_type": "markdown",
   "metadata": {},
   "source": [
    "#### Importing Data from Government website to gain additional information "
   ]
  },
  {
   "cell_type": "code",
   "execution_count": 81,
   "metadata": {},
   "outputs": [],
   "source": [
    "from sodapy import Socrata"
   ]
  },
  {
   "cell_type": "code",
   "execution_count": 82,
   "metadata": {},
   "outputs": [
    {
     "name": "stderr",
     "output_type": "stream",
     "text": [
      "WARNING:root:Requests made without an app_token will be subject to strict throttling limits.\n"
     ]
    }
   ],
   "source": [
    "client = Socrata(\"data.wa.gov\", None)"
   ]
  },
  {
   "cell_type": "code",
   "execution_count": 83,
   "metadata": {},
   "outputs": [],
   "source": [
    "results = client.get(\"f6w7-q2d2\", limit=100000)"
   ]
  },
  {
   "cell_type": "code",
   "execution_count": 223,
   "metadata": {},
   "outputs": [],
   "source": [
    "results_df = pd.DataFrame.from_records(results)"
   ]
  },
  {
   "cell_type": "code",
   "execution_count": 224,
   "metadata": {},
   "outputs": [
    {
     "data": {
      "text/html": [
       "<div>\n",
       "<style scoped>\n",
       "    .dataframe tbody tr th:only-of-type {\n",
       "        vertical-align: middle;\n",
       "    }\n",
       "\n",
       "    .dataframe tbody tr th {\n",
       "        vertical-align: top;\n",
       "    }\n",
       "\n",
       "    .dataframe thead th {\n",
       "        text-align: right;\n",
       "    }\n",
       "</style>\n",
       "<table border=\"1\" class=\"dataframe\">\n",
       "  <thead>\n",
       "    <tr style=\"text-align: right;\">\n",
       "      <th></th>\n",
       "      <th>vin_1_10</th>\n",
       "      <th>county</th>\n",
       "      <th>city</th>\n",
       "      <th>state</th>\n",
       "      <th>zip_code</th>\n",
       "      <th>model_year</th>\n",
       "      <th>make</th>\n",
       "      <th>model</th>\n",
       "      <th>ev_type</th>\n",
       "      <th>cafv_type</th>\n",
       "      <th>electric_range</th>\n",
       "      <th>base_msrp</th>\n",
       "      <th>legislative_district</th>\n",
       "      <th>dol_vehicle_id</th>\n",
       "      <th>geocoded_column</th>\n",
       "      <th>electric_utility</th>\n",
       "      <th>:@computed_region_8ddd_yn5v</th>\n",
       "      <th>:@computed_region_x4ys_rtnd</th>\n",
       "      <th>:@computed_region_fny7_vc3j</th>\n",
       "    </tr>\n",
       "  </thead>\n",
       "  <tbody>\n",
       "    <tr>\n",
       "      <th>0</th>\n",
       "      <td>1G1RC6E45F</td>\n",
       "      <td>Thurston</td>\n",
       "      <td>TENINO</td>\n",
       "      <td>WA</td>\n",
       "      <td>98589</td>\n",
       "      <td>2015</td>\n",
       "      <td>CHEVROLET</td>\n",
       "      <td>VOLT</td>\n",
       "      <td>Plug-in Hybrid Electric Vehicle (PHEV)</td>\n",
       "      <td>Clean Alternative Fuel Vehicle Eligible</td>\n",
       "      <td>38</td>\n",
       "      <td>0</td>\n",
       "      <td>35</td>\n",
       "      <td>157715015</td>\n",
       "      <td>{'type': 'Point', 'coordinates': [-122.842388,...</td>\n",
       "      <td>PUGET SOUND ENERGY INC</td>\n",
       "      <td>27</td>\n",
       "      <td>2742</td>\n",
       "      <td>3</td>\n",
       "    </tr>\n",
       "    <tr>\n",
       "      <th>1</th>\n",
       "      <td>5YJSA1E26J</td>\n",
       "      <td>Snohomish</td>\n",
       "      <td>MUKILTEO</td>\n",
       "      <td>WA</td>\n",
       "      <td>98275</td>\n",
       "      <td>2018</td>\n",
       "      <td>TESLA</td>\n",
       "      <td>MODEL S</td>\n",
       "      <td>Battery Electric Vehicle (BEV)</td>\n",
       "      <td>Clean Alternative Fuel Vehicle Eligible</td>\n",
       "      <td>249</td>\n",
       "      <td>0</td>\n",
       "      <td>21</td>\n",
       "      <td>474398907</td>\n",
       "      <td>{'type': 'Point', 'coordinates': [-122.302507,...</td>\n",
       "      <td>PUGET SOUND ENERGY INC</td>\n",
       "      <td>7</td>\n",
       "      <td>3213</td>\n",
       "      <td>2</td>\n",
       "    </tr>\n",
       "    <tr>\n",
       "      <th>2</th>\n",
       "      <td>5YJSA1E26K</td>\n",
       "      <td>Camden</td>\n",
       "      <td>SAINT MARYS</td>\n",
       "      <td>GA</td>\n",
       "      <td>31558</td>\n",
       "      <td>2019</td>\n",
       "      <td>TESLA</td>\n",
       "      <td>MODEL S</td>\n",
       "      <td>Battery Electric Vehicle (BEV)</td>\n",
       "      <td>Clean Alternative Fuel Vehicle Eligible</td>\n",
       "      <td>270</td>\n",
       "      <td>0</td>\n",
       "      <td>NaN</td>\n",
       "      <td>185220493</td>\n",
       "      <td>{'type': 'Point', 'coordinates': [-81.558651, ...</td>\n",
       "      <td>NaN</td>\n",
       "      <td>NaN</td>\n",
       "      <td>1157</td>\n",
       "      <td>NaN</td>\n",
       "    </tr>\n",
       "    <tr>\n",
       "      <th>3</th>\n",
       "      <td>1G1FW6S03H</td>\n",
       "      <td>Thurston</td>\n",
       "      <td>LACEY</td>\n",
       "      <td>WA</td>\n",
       "      <td>98503</td>\n",
       "      <td>2017</td>\n",
       "      <td>CHEVROLET</td>\n",
       "      <td>BOLT EV</td>\n",
       "      <td>Battery Electric Vehicle (BEV)</td>\n",
       "      <td>Clean Alternative Fuel Vehicle Eligible</td>\n",
       "      <td>238</td>\n",
       "      <td>0</td>\n",
       "      <td>22</td>\n",
       "      <td>196814537</td>\n",
       "      <td>{'type': 'Point', 'coordinates': [-122.80237, ...</td>\n",
       "      <td>PUGET SOUND ENERGY INC</td>\n",
       "      <td>28</td>\n",
       "      <td>2742</td>\n",
       "      <td>10</td>\n",
       "    </tr>\n",
       "    <tr>\n",
       "      <th>4</th>\n",
       "      <td>1N4AZ0CP6D</td>\n",
       "      <td>Skagit</td>\n",
       "      <td>MOUNT VERNON</td>\n",
       "      <td>WA</td>\n",
       "      <td>98273</td>\n",
       "      <td>2013</td>\n",
       "      <td>NISSAN</td>\n",
       "      <td>LEAF</td>\n",
       "      <td>Battery Electric Vehicle (BEV)</td>\n",
       "      <td>Clean Alternative Fuel Vehicle Eligible</td>\n",
       "      <td>75</td>\n",
       "      <td>0</td>\n",
       "      <td>40</td>\n",
       "      <td>171974470</td>\n",
       "      <td>{'type': 'Point', 'coordinates': [-122.355669,...</td>\n",
       "      <td>PUGET SOUND ENERGY INC</td>\n",
       "      <td>43</td>\n",
       "      <td>3212</td>\n",
       "      <td>2</td>\n",
       "    </tr>\n",
       "  </tbody>\n",
       "</table>\n",
       "</div>"
      ],
      "text/plain": [
       "     vin_1_10     county          city state zip_code model_year       make  \\\n",
       "0  1G1RC6E45F   Thurston        TENINO    WA    98589       2015  CHEVROLET   \n",
       "1  5YJSA1E26J  Snohomish      MUKILTEO    WA    98275       2018      TESLA   \n",
       "2  5YJSA1E26K     Camden   SAINT MARYS    GA    31558       2019      TESLA   \n",
       "3  1G1FW6S03H   Thurston         LACEY    WA    98503       2017  CHEVROLET   \n",
       "4  1N4AZ0CP6D     Skagit  MOUNT VERNON    WA    98273       2013     NISSAN   \n",
       "\n",
       "     model                                 ev_type  \\\n",
       "0     VOLT  Plug-in Hybrid Electric Vehicle (PHEV)   \n",
       "1  MODEL S          Battery Electric Vehicle (BEV)   \n",
       "2  MODEL S          Battery Electric Vehicle (BEV)   \n",
       "3  BOLT EV          Battery Electric Vehicle (BEV)   \n",
       "4     LEAF          Battery Electric Vehicle (BEV)   \n",
       "\n",
       "                                 cafv_type electric_range base_msrp  \\\n",
       "0  Clean Alternative Fuel Vehicle Eligible             38         0   \n",
       "1  Clean Alternative Fuel Vehicle Eligible            249         0   \n",
       "2  Clean Alternative Fuel Vehicle Eligible            270         0   \n",
       "3  Clean Alternative Fuel Vehicle Eligible            238         0   \n",
       "4  Clean Alternative Fuel Vehicle Eligible             75         0   \n",
       "\n",
       "  legislative_district dol_vehicle_id  \\\n",
       "0                   35      157715015   \n",
       "1                   21      474398907   \n",
       "2                  NaN      185220493   \n",
       "3                   22      196814537   \n",
       "4                   40      171974470   \n",
       "\n",
       "                                     geocoded_column        electric_utility  \\\n",
       "0  {'type': 'Point', 'coordinates': [-122.842388,...  PUGET SOUND ENERGY INC   \n",
       "1  {'type': 'Point', 'coordinates': [-122.302507,...  PUGET SOUND ENERGY INC   \n",
       "2  {'type': 'Point', 'coordinates': [-81.558651, ...                     NaN   \n",
       "3  {'type': 'Point', 'coordinates': [-122.80237, ...  PUGET SOUND ENERGY INC   \n",
       "4  {'type': 'Point', 'coordinates': [-122.355669,...  PUGET SOUND ENERGY INC   \n",
       "\n",
       "  :@computed_region_8ddd_yn5v :@computed_region_x4ys_rtnd  \\\n",
       "0                          27                        2742   \n",
       "1                           7                        3213   \n",
       "2                         NaN                        1157   \n",
       "3                          28                        2742   \n",
       "4                          43                        3212   \n",
       "\n",
       "  :@computed_region_fny7_vc3j  \n",
       "0                           3  \n",
       "1                           2  \n",
       "2                         NaN  \n",
       "3                          10  \n",
       "4                           2  "
      ]
     },
     "execution_count": 224,
     "metadata": {},
     "output_type": "execute_result"
    }
   ],
   "source": [
    "results_df.head()"
   ]
  },
  {
   "cell_type": "markdown",
   "metadata": {},
   "source": [
    "#### Data frame for the required columns"
   ]
  },
  {
   "cell_type": "code",
   "execution_count": 225,
   "metadata": {},
   "outputs": [],
   "source": [
    "results_df = results_df[['dol_vehicle_id','cafv_type','geocoded_column']]"
   ]
  },
  {
   "cell_type": "code",
   "execution_count": 226,
   "metadata": {},
   "outputs": [
    {
     "data": {
      "text/html": [
       "<div>\n",
       "<style scoped>\n",
       "    .dataframe tbody tr th:only-of-type {\n",
       "        vertical-align: middle;\n",
       "    }\n",
       "\n",
       "    .dataframe tbody tr th {\n",
       "        vertical-align: top;\n",
       "    }\n",
       "\n",
       "    .dataframe thead th {\n",
       "        text-align: right;\n",
       "    }\n",
       "</style>\n",
       "<table border=\"1\" class=\"dataframe\">\n",
       "  <thead>\n",
       "    <tr style=\"text-align: right;\">\n",
       "      <th></th>\n",
       "      <th>dol_vehicle_id</th>\n",
       "      <th>cafv_type</th>\n",
       "      <th>geocoded_column</th>\n",
       "    </tr>\n",
       "  </thead>\n",
       "  <tbody>\n",
       "    <tr>\n",
       "      <th>0</th>\n",
       "      <td>157715015</td>\n",
       "      <td>Clean Alternative Fuel Vehicle Eligible</td>\n",
       "      <td>{'type': 'Point', 'coordinates': [-122.842388,...</td>\n",
       "    </tr>\n",
       "    <tr>\n",
       "      <th>1</th>\n",
       "      <td>474398907</td>\n",
       "      <td>Clean Alternative Fuel Vehicle Eligible</td>\n",
       "      <td>{'type': 'Point', 'coordinates': [-122.302507,...</td>\n",
       "    </tr>\n",
       "  </tbody>\n",
       "</table>\n",
       "</div>"
      ],
      "text/plain": [
       "  dol_vehicle_id                                cafv_type  \\\n",
       "0      157715015  Clean Alternative Fuel Vehicle Eligible   \n",
       "1      474398907  Clean Alternative Fuel Vehicle Eligible   \n",
       "\n",
       "                                     geocoded_column  \n",
       "0  {'type': 'Point', 'coordinates': [-122.842388,...  \n",
       "1  {'type': 'Point', 'coordinates': [-122.302507,...  "
      ]
     },
     "execution_count": 226,
     "metadata": {},
     "output_type": "execute_result"
    }
   ],
   "source": [
    "results_df.head(2)"
   ]
  },
  {
   "cell_type": "code",
   "execution_count": 227,
   "metadata": {},
   "outputs": [
    {
     "data": {
      "text/plain": [
       "dol_vehicle_id     object\n",
       "cafv_type          object\n",
       "geocoded_column    object\n",
       "dtype: object"
      ]
     },
     "execution_count": 227,
     "metadata": {},
     "output_type": "execute_result"
    }
   ],
   "source": [
    "results_df.dtypes"
   ]
  },
  {
   "cell_type": "code",
   "execution_count": 228,
   "metadata": {},
   "outputs": [],
   "source": [
    "results_df.dol_vehicle_id = results_df.dol_vehicle_id.astype('int64')"
   ]
  },
  {
   "cell_type": "code",
   "execution_count": 229,
   "metadata": {},
   "outputs": [
    {
     "data": {
      "text/plain": [
       "dol_vehicle_id      int64\n",
       "cafv_type          object\n",
       "geocoded_column    object\n",
       "dtype: object"
      ]
     },
     "execution_count": 229,
     "metadata": {},
     "output_type": "execute_result"
    }
   ],
   "source": [
    "results_df.dtypes"
   ]
  },
  {
   "cell_type": "markdown",
   "metadata": {},
   "source": [
    "#### Combaining DataFrames"
   ]
  },
  {
   "cell_type": "code",
   "execution_count": 230,
   "metadata": {},
   "outputs": [],
   "source": [
    "df_main = df_vehicle.merge(results_df,how = 'left', left_on = 'DOL Vehicle ID', right_on='dol_vehicle_id')"
   ]
  },
  {
   "cell_type": "code",
   "execution_count": 231,
   "metadata": {},
   "outputs": [
    {
     "data": {
      "text/html": [
       "<div>\n",
       "<style scoped>\n",
       "    .dataframe tbody tr th:only-of-type {\n",
       "        vertical-align: middle;\n",
       "    }\n",
       "\n",
       "    .dataframe tbody tr th {\n",
       "        vertical-align: top;\n",
       "    }\n",
       "\n",
       "    .dataframe thead th {\n",
       "        text-align: right;\n",
       "    }\n",
       "</style>\n",
       "<table border=\"1\" class=\"dataframe\">\n",
       "  <thead>\n",
       "    <tr style=\"text-align: right;\">\n",
       "      <th></th>\n",
       "      <th>DOL Vehicle ID</th>\n",
       "      <th>Make</th>\n",
       "      <th>Model</th>\n",
       "      <th>Model Year</th>\n",
       "      <th>Clean Alternative Fuel Vehicle Type</th>\n",
       "      <th>County</th>\n",
       "      <th>City</th>\n",
       "      <th>Zip</th>\n",
       "      <th>State of Residence</th>\n",
       "      <th>Legislative District</th>\n",
       "      <th>Vehicle Primary Use</th>\n",
       "      <th>Electric Range</th>\n",
       "      <th>dol_vehicle_id</th>\n",
       "      <th>cafv_type</th>\n",
       "      <th>geocoded_column</th>\n",
       "    </tr>\n",
       "  </thead>\n",
       "  <tbody>\n",
       "    <tr>\n",
       "      <th>0</th>\n",
       "      <td>2343918</td>\n",
       "      <td>Tesla</td>\n",
       "      <td>Roadster</td>\n",
       "      <td>2010</td>\n",
       "      <td>Battery Electric Vehicle (BEV)</td>\n",
       "      <td>King</td>\n",
       "      <td>Kirkland</td>\n",
       "      <td>98033</td>\n",
       "      <td>WA</td>\n",
       "      <td>48</td>\n",
       "      <td>Passenger</td>\n",
       "      <td>245</td>\n",
       "      <td>NaN</td>\n",
       "      <td>NaN</td>\n",
       "      <td>NaN</td>\n",
       "    </tr>\n",
       "    <tr>\n",
       "      <th>1</th>\n",
       "      <td>5880752</td>\n",
       "      <td>Ford</td>\n",
       "      <td>Ranger</td>\n",
       "      <td>1998</td>\n",
       "      <td>Battery Electric Vehicle (BEV)</td>\n",
       "      <td>Whatcom</td>\n",
       "      <td>Bellingham</td>\n",
       "      <td>98225</td>\n",
       "      <td>WA</td>\n",
       "      <td>42</td>\n",
       "      <td>Truck</td>\n",
       "      <td>58</td>\n",
       "      <td>NaN</td>\n",
       "      <td>NaN</td>\n",
       "      <td>NaN</td>\n",
       "    </tr>\n",
       "    <tr>\n",
       "      <th>2</th>\n",
       "      <td>6507896</td>\n",
       "      <td>Chevrolet</td>\n",
       "      <td>S-10 Pickup</td>\n",
       "      <td>1998</td>\n",
       "      <td>Battery Electric Vehicle (BEV)</td>\n",
       "      <td>King</td>\n",
       "      <td>Seattle</td>\n",
       "      <td>98144</td>\n",
       "      <td>WA</td>\n",
       "      <td>37</td>\n",
       "      <td>Truck</td>\n",
       "      <td>33</td>\n",
       "      <td>NaN</td>\n",
       "      <td>NaN</td>\n",
       "      <td>NaN</td>\n",
       "    </tr>\n",
       "    <tr>\n",
       "      <th>3</th>\n",
       "      <td>104423070</td>\n",
       "      <td>Wheego Electric Cars</td>\n",
       "      <td>Life</td>\n",
       "      <td>2011</td>\n",
       "      <td>Battery Electric Vehicle (BEV)</td>\n",
       "      <td>King</td>\n",
       "      <td>Seattle</td>\n",
       "      <td>98116</td>\n",
       "      <td>WA</td>\n",
       "      <td>34</td>\n",
       "      <td>Medium-Speed Electric Vehicle</td>\n",
       "      <td>100</td>\n",
       "      <td>NaN</td>\n",
       "      <td>NaN</td>\n",
       "      <td>NaN</td>\n",
       "    </tr>\n",
       "    <tr>\n",
       "      <th>4</th>\n",
       "      <td>106169542</td>\n",
       "      <td>Tesla</td>\n",
       "      <td>Roadster</td>\n",
       "      <td>2010</td>\n",
       "      <td>Battery Electric Vehicle (BEV)</td>\n",
       "      <td>Clark</td>\n",
       "      <td>Vancouver</td>\n",
       "      <td>98664</td>\n",
       "      <td>WA</td>\n",
       "      <td>49</td>\n",
       "      <td>Passenger</td>\n",
       "      <td>245</td>\n",
       "      <td>NaN</td>\n",
       "      <td>NaN</td>\n",
       "      <td>NaN</td>\n",
       "    </tr>\n",
       "  </tbody>\n",
       "</table>\n",
       "</div>"
      ],
      "text/plain": [
       "   DOL Vehicle ID                  Make        Model  Model Year  \\\n",
       "0         2343918                 Tesla     Roadster        2010   \n",
       "1         5880752                  Ford       Ranger        1998   \n",
       "2         6507896             Chevrolet  S-10 Pickup        1998   \n",
       "3       104423070  Wheego Electric Cars         Life        2011   \n",
       "4       106169542                 Tesla     Roadster        2010   \n",
       "\n",
       "  Clean Alternative Fuel Vehicle Type   County        City    Zip  \\\n",
       "0      Battery Electric Vehicle (BEV)     King    Kirkland  98033   \n",
       "1      Battery Electric Vehicle (BEV)  Whatcom  Bellingham  98225   \n",
       "2      Battery Electric Vehicle (BEV)     King     Seattle  98144   \n",
       "3      Battery Electric Vehicle (BEV)     King     Seattle  98116   \n",
       "4      Battery Electric Vehicle (BEV)    Clark   Vancouver  98664   \n",
       "\n",
       "  State of Residence  Legislative District            Vehicle Primary Use  \\\n",
       "0                 WA                    48                      Passenger   \n",
       "1                 WA                    42                          Truck   \n",
       "2                 WA                    37                          Truck   \n",
       "3                 WA                    34  Medium-Speed Electric Vehicle   \n",
       "4                 WA                    49                      Passenger   \n",
       "\n",
       "   Electric Range  dol_vehicle_id cafv_type geocoded_column  \n",
       "0             245             NaN       NaN             NaN  \n",
       "1              58             NaN       NaN             NaN  \n",
       "2              33             NaN       NaN             NaN  \n",
       "3             100             NaN       NaN             NaN  \n",
       "4             245             NaN       NaN             NaN  "
      ]
     },
     "execution_count": 231,
     "metadata": {},
     "output_type": "execute_result"
    }
   ],
   "source": [
    "df_main.head()"
   ]
  },
  {
   "cell_type": "code",
   "execution_count": 232,
   "metadata": {},
   "outputs": [],
   "source": [
    "df_main['dol_vehicle_id'].fillna(0,inplace=True)"
   ]
  },
  {
   "cell_type": "code",
   "execution_count": 233,
   "metadata": {},
   "outputs": [],
   "source": [
    "df_main = df_main[df_main['dol_vehicle_id'] != 0]"
   ]
  },
  {
   "cell_type": "code",
   "execution_count": 234,
   "metadata": {},
   "outputs": [
    {
     "data": {
      "text/plain": [
       "(89913, 15)"
      ]
     },
     "execution_count": 234,
     "metadata": {},
     "output_type": "execute_result"
    }
   ],
   "source": [
    "df_main.shape"
   ]
  },
  {
   "cell_type": "code",
   "execution_count": 235,
   "metadata": {},
   "outputs": [
    {
     "data": {
      "text/plain": [
       "0"
      ]
     },
     "execution_count": 235,
     "metadata": {},
     "output_type": "execute_result"
    }
   ],
   "source": [
    "df_main['dol_vehicle_id'].isnull().sum()"
   ]
  },
  {
   "cell_type": "code",
   "execution_count": 236,
   "metadata": {},
   "outputs": [],
   "source": [
    "df_vehicle = df_main"
   ]
  },
  {
   "cell_type": "code",
   "execution_count": 237,
   "metadata": {},
   "outputs": [],
   "source": [
    "df_vehicle.drop('dol_vehicle_id',axis = 1, inplace = True)"
   ]
  },
  {
   "cell_type": "code",
   "execution_count": 238,
   "metadata": {},
   "outputs": [],
   "source": [
    "df_vehicle = df_vehicle.reset_index()\n",
    "df_vehicle.drop('index',axis = 1, inplace = True)"
   ]
  },
  {
   "cell_type": "code",
   "execution_count": 239,
   "metadata": {},
   "outputs": [
    {
     "data": {
      "text/html": [
       "<div>\n",
       "<style scoped>\n",
       "    .dataframe tbody tr th:only-of-type {\n",
       "        vertical-align: middle;\n",
       "    }\n",
       "\n",
       "    .dataframe tbody tr th {\n",
       "        vertical-align: top;\n",
       "    }\n",
       "\n",
       "    .dataframe thead th {\n",
       "        text-align: right;\n",
       "    }\n",
       "</style>\n",
       "<table border=\"1\" class=\"dataframe\">\n",
       "  <thead>\n",
       "    <tr style=\"text-align: right;\">\n",
       "      <th></th>\n",
       "      <th>DOL Vehicle ID</th>\n",
       "      <th>Make</th>\n",
       "      <th>Model</th>\n",
       "      <th>Model Year</th>\n",
       "      <th>Clean Alternative Fuel Vehicle Type</th>\n",
       "      <th>County</th>\n",
       "      <th>City</th>\n",
       "      <th>Zip</th>\n",
       "      <th>State of Residence</th>\n",
       "      <th>Legislative District</th>\n",
       "      <th>Vehicle Primary Use</th>\n",
       "      <th>Electric Range</th>\n",
       "      <th>cafv_type</th>\n",
       "      <th>geocoded_column</th>\n",
       "    </tr>\n",
       "  </thead>\n",
       "  <tbody>\n",
       "    <tr>\n",
       "      <th>0</th>\n",
       "      <td>108886998</td>\n",
       "      <td>Tesla</td>\n",
       "      <td>Roadster</td>\n",
       "      <td>2010</td>\n",
       "      <td>Battery Electric Vehicle (BEV)</td>\n",
       "      <td>King</td>\n",
       "      <td>Seattle</td>\n",
       "      <td>98112</td>\n",
       "      <td>WA</td>\n",
       "      <td>43</td>\n",
       "      <td>Passenger</td>\n",
       "      <td>245</td>\n",
       "      <td>Clean Alternative Fuel Vehicle Eligible</td>\n",
       "      <td>{'type': 'Point', 'coordinates': [-122.296466,...</td>\n",
       "    </tr>\n",
       "    <tr>\n",
       "      <th>1</th>\n",
       "      <td>115173376</td>\n",
       "      <td>Tesla</td>\n",
       "      <td>Roadster</td>\n",
       "      <td>2010</td>\n",
       "      <td>Battery Electric Vehicle (BEV)</td>\n",
       "      <td>King</td>\n",
       "      <td>North Bend</td>\n",
       "      <td>98045</td>\n",
       "      <td>WA</td>\n",
       "      <td>5</td>\n",
       "      <td>Passenger</td>\n",
       "      <td>245</td>\n",
       "      <td>Clean Alternative Fuel Vehicle Eligible</td>\n",
       "      <td>{'type': 'Point', 'coordinates': [-121.668459,...</td>\n",
       "    </tr>\n",
       "    <tr>\n",
       "      <th>2</th>\n",
       "      <td>123892821</td>\n",
       "      <td>Tesla</td>\n",
       "      <td>Roadster</td>\n",
       "      <td>2010</td>\n",
       "      <td>Battery Electric Vehicle (BEV)</td>\n",
       "      <td>King</td>\n",
       "      <td>Seattle</td>\n",
       "      <td>98121</td>\n",
       "      <td>WA</td>\n",
       "      <td>36</td>\n",
       "      <td>Passenger</td>\n",
       "      <td>245</td>\n",
       "      <td>Clean Alternative Fuel Vehicle Eligible</td>\n",
       "      <td>{'type': 'Point', 'coordinates': [-122.334341,...</td>\n",
       "    </tr>\n",
       "    <tr>\n",
       "      <th>3</th>\n",
       "      <td>149731004</td>\n",
       "      <td>Tesla</td>\n",
       "      <td>Roadster</td>\n",
       "      <td>2010</td>\n",
       "      <td>Battery Electric Vehicle (BEV)</td>\n",
       "      <td>Snohomish</td>\n",
       "      <td>Mukilteo</td>\n",
       "      <td>98275</td>\n",
       "      <td>WA</td>\n",
       "      <td>21</td>\n",
       "      <td>Passenger</td>\n",
       "      <td>245</td>\n",
       "      <td>Clean Alternative Fuel Vehicle Eligible</td>\n",
       "      <td>{'type': 'Point', 'coordinates': [-122.302507,...</td>\n",
       "    </tr>\n",
       "    <tr>\n",
       "      <th>4</th>\n",
       "      <td>155686436</td>\n",
       "      <td>Ford</td>\n",
       "      <td>Ranger</td>\n",
       "      <td>1999</td>\n",
       "      <td>Battery Electric Vehicle (BEV)</td>\n",
       "      <td>Skagit</td>\n",
       "      <td>Mount Vernon</td>\n",
       "      <td>98274</td>\n",
       "      <td>WA</td>\n",
       "      <td>10</td>\n",
       "      <td>Truck</td>\n",
       "      <td>74</td>\n",
       "      <td>Clean Alternative Fuel Vehicle Eligible</td>\n",
       "      <td>{'type': 'Point', 'coordinates': [-122.250701,...</td>\n",
       "    </tr>\n",
       "  </tbody>\n",
       "</table>\n",
       "</div>"
      ],
      "text/plain": [
       "   DOL Vehicle ID   Make     Model  Model Year  \\\n",
       "0       108886998  Tesla  Roadster        2010   \n",
       "1       115173376  Tesla  Roadster        2010   \n",
       "2       123892821  Tesla  Roadster        2010   \n",
       "3       149731004  Tesla  Roadster        2010   \n",
       "4       155686436   Ford    Ranger        1999   \n",
       "\n",
       "  Clean Alternative Fuel Vehicle Type     County          City    Zip  \\\n",
       "0      Battery Electric Vehicle (BEV)       King       Seattle  98112   \n",
       "1      Battery Electric Vehicle (BEV)       King    North Bend  98045   \n",
       "2      Battery Electric Vehicle (BEV)       King       Seattle  98121   \n",
       "3      Battery Electric Vehicle (BEV)  Snohomish      Mukilteo  98275   \n",
       "4      Battery Electric Vehicle (BEV)     Skagit  Mount Vernon  98274   \n",
       "\n",
       "  State of Residence  Legislative District Vehicle Primary Use  \\\n",
       "0                 WA                    43           Passenger   \n",
       "1                 WA                     5           Passenger   \n",
       "2                 WA                    36           Passenger   \n",
       "3                 WA                    21           Passenger   \n",
       "4                 WA                    10               Truck   \n",
       "\n",
       "   Electric Range                                cafv_type  \\\n",
       "0             245  Clean Alternative Fuel Vehicle Eligible   \n",
       "1             245  Clean Alternative Fuel Vehicle Eligible   \n",
       "2             245  Clean Alternative Fuel Vehicle Eligible   \n",
       "3             245  Clean Alternative Fuel Vehicle Eligible   \n",
       "4              74  Clean Alternative Fuel Vehicle Eligible   \n",
       "\n",
       "                                     geocoded_column  \n",
       "0  {'type': 'Point', 'coordinates': [-122.296466,...  \n",
       "1  {'type': 'Point', 'coordinates': [-121.668459,...  \n",
       "2  {'type': 'Point', 'coordinates': [-122.334341,...  \n",
       "3  {'type': 'Point', 'coordinates': [-122.302507,...  \n",
       "4  {'type': 'Point', 'coordinates': [-122.250701,...  "
      ]
     },
     "execution_count": 239,
     "metadata": {},
     "output_type": "execute_result"
    }
   ],
   "source": [
    "df_vehicle.head()"
   ]
  },
  {
   "cell_type": "code",
   "execution_count": 240,
   "metadata": {},
   "outputs": [],
   "source": [
    "df_vehicle.rename(columns = {'cafv_type':'Clean Alternative Fuel Vehicle (CAFV) Eligibility', 'geocoded_column':'Vehicle Location'}, inplace = True)"
   ]
  },
  {
   "cell_type": "markdown",
   "metadata": {},
   "source": [
    "#### Cleaning Geo-location"
   ]
  },
  {
   "cell_type": "code",
   "execution_count": 241,
   "metadata": {},
   "outputs": [
    {
     "data": {
      "text/plain": [
       "{'type': 'Point', 'coordinates': [-122.296466, 47.631708]}"
      ]
     },
     "execution_count": 241,
     "metadata": {},
     "output_type": "execute_result"
    }
   ],
   "source": [
    "df_vehicle['Vehicle Location'][0]"
   ]
  },
  {
   "cell_type": "code",
   "execution_count": 242,
   "metadata": {},
   "outputs": [
    {
     "data": {
      "text/plain": [
       "738"
      ]
     },
     "execution_count": 242,
     "metadata": {},
     "output_type": "execute_result"
    }
   ],
   "source": [
    "df_vehicle['Vehicle Location'].isnull().sum()"
   ]
  },
  {
   "cell_type": "code",
   "execution_count": 243,
   "metadata": {},
   "outputs": [],
   "source": [
    "df_vehicle.dropna(inplace=True)"
   ]
  },
  {
   "cell_type": "code",
   "execution_count": 250,
   "metadata": {},
   "outputs": [],
   "source": [
    "df_vehicle = df_vehicle.reset_index()\n",
    "df_vehicle.drop('index',axis = 1, inplace = True)"
   ]
  },
  {
   "cell_type": "code",
   "execution_count": 244,
   "metadata": {},
   "outputs": [
    {
     "data": {
      "text/plain": [
       "(89158, 14)"
      ]
     },
     "execution_count": 244,
     "metadata": {},
     "output_type": "execute_result"
    }
   ],
   "source": [
    "df_vehicle.shape"
   ]
  },
  {
   "cell_type": "code",
   "execution_count": 245,
   "metadata": {},
   "outputs": [
    {
     "data": {
      "text/html": [
       "<div>\n",
       "<style scoped>\n",
       "    .dataframe tbody tr th:only-of-type {\n",
       "        vertical-align: middle;\n",
       "    }\n",
       "\n",
       "    .dataframe tbody tr th {\n",
       "        vertical-align: top;\n",
       "    }\n",
       "\n",
       "    .dataframe thead th {\n",
       "        text-align: right;\n",
       "    }\n",
       "</style>\n",
       "<table border=\"1\" class=\"dataframe\">\n",
       "  <thead>\n",
       "    <tr style=\"text-align: right;\">\n",
       "      <th></th>\n",
       "      <th>type</th>\n",
       "      <th>coordinates</th>\n",
       "    </tr>\n",
       "  </thead>\n",
       "  <tbody>\n",
       "    <tr>\n",
       "      <th>0</th>\n",
       "      <td>Point</td>\n",
       "      <td>-122.296466</td>\n",
       "    </tr>\n",
       "    <tr>\n",
       "      <th>1</th>\n",
       "      <td>Point</td>\n",
       "      <td>47.631708</td>\n",
       "    </tr>\n",
       "  </tbody>\n",
       "</table>\n",
       "</div>"
      ],
      "text/plain": [
       "    type  coordinates\n",
       "0  Point  -122.296466\n",
       "1  Point    47.631708"
      ]
     },
     "execution_count": 245,
     "metadata": {},
     "output_type": "execute_result"
    }
   ],
   "source": [
    "pd.DataFrame.from_dict(df_vehicle['Vehicle Location'][0])"
   ]
  },
  {
   "cell_type": "code",
   "execution_count": 246,
   "metadata": {},
   "outputs": [
    {
     "data": {
      "text/plain": [
       "[-122.296466, 47.631708]"
      ]
     },
     "execution_count": 246,
     "metadata": {},
     "output_type": "execute_result"
    }
   ],
   "source": [
    "df_vehicle['Vehicle Location'][0]['coordinates']"
   ]
  },
  {
   "cell_type": "code",
   "execution_count": 251,
   "metadata": {},
   "outputs": [
    {
     "name": "stderr",
     "output_type": "stream",
     "text": [
      "  0%|                                                                                        | 0/89158 [00:00<?, ?it/s]C:\\Users\\Dhruv\\Anaconda3\\lib\\site-packages\\ipykernel_launcher.py:5: SettingWithCopyWarning: \n",
      "A value is trying to be set on a copy of a slice from a DataFrame\n",
      "\n",
      "See the caveats in the documentation: https://pandas.pydata.org/pandas-docs/stable/user_guide/indexing.html#returning-a-view-versus-a-copy\n",
      "  \"\"\"\n",
      "C:\\Users\\Dhruv\\Anaconda3\\lib\\site-packages\\ipykernel_launcher.py:6: SettingWithCopyWarning: \n",
      "A value is trying to be set on a copy of a slice from a DataFrame\n",
      "\n",
      "See the caveats in the documentation: https://pandas.pydata.org/pandas-docs/stable/user_guide/indexing.html#returning-a-view-versus-a-copy\n",
      "  \n",
      "100%|██████████████████████████████████████████████████████████████████████████| 89158/89158 [00:16<00:00, 5279.98it/s]\n"
     ]
    }
   ],
   "source": [
    "df_vehicle['Latitude'] = 0.0\n",
    "df_vehicle['Longitude'] = 0.0\n",
    "\n",
    "for i in tqdm(range(len(df_vehicle))):\n",
    "    df_vehicle['Latitude'][i] = df_vehicle['Vehicle Location'][i]['coordinates'][0]\n",
    "    df_vehicle['Longitude'][i] = df_vehicle['Vehicle Location'][i]['coordinates'][1]"
   ]
  },
  {
   "cell_type": "code",
   "execution_count": 253,
   "metadata": {},
   "outputs": [],
   "source": [
    "df_vehicle.drop('Vehicle Location',axis = 1,inplace=True)"
   ]
  },
  {
   "cell_type": "code",
   "execution_count": 254,
   "metadata": {},
   "outputs": [
    {
     "data": {
      "text/html": [
       "<div>\n",
       "<style scoped>\n",
       "    .dataframe tbody tr th:only-of-type {\n",
       "        vertical-align: middle;\n",
       "    }\n",
       "\n",
       "    .dataframe tbody tr th {\n",
       "        vertical-align: top;\n",
       "    }\n",
       "\n",
       "    .dataframe thead th {\n",
       "        text-align: right;\n",
       "    }\n",
       "</style>\n",
       "<table border=\"1\" class=\"dataframe\">\n",
       "  <thead>\n",
       "    <tr style=\"text-align: right;\">\n",
       "      <th></th>\n",
       "      <th>DOL Vehicle ID</th>\n",
       "      <th>Make</th>\n",
       "      <th>Model</th>\n",
       "      <th>Model Year</th>\n",
       "      <th>Clean Alternative Fuel Vehicle Type</th>\n",
       "      <th>County</th>\n",
       "      <th>City</th>\n",
       "      <th>Zip</th>\n",
       "      <th>State of Residence</th>\n",
       "      <th>Legislative District</th>\n",
       "      <th>Vehicle Primary Use</th>\n",
       "      <th>Electric Range</th>\n",
       "      <th>Clean Alternative Fuel Vehicle (CAFV) Eligibility</th>\n",
       "      <th>Latitude</th>\n",
       "      <th>Longitude</th>\n",
       "    </tr>\n",
       "  </thead>\n",
       "  <tbody>\n",
       "    <tr>\n",
       "      <th>0</th>\n",
       "      <td>108886998</td>\n",
       "      <td>Tesla</td>\n",
       "      <td>Roadster</td>\n",
       "      <td>2010</td>\n",
       "      <td>Battery Electric Vehicle (BEV)</td>\n",
       "      <td>King</td>\n",
       "      <td>Seattle</td>\n",
       "      <td>98112</td>\n",
       "      <td>WA</td>\n",
       "      <td>43</td>\n",
       "      <td>Passenger</td>\n",
       "      <td>245</td>\n",
       "      <td>Clean Alternative Fuel Vehicle Eligible</td>\n",
       "      <td>-122.296466</td>\n",
       "      <td>47.631708</td>\n",
       "    </tr>\n",
       "    <tr>\n",
       "      <th>1</th>\n",
       "      <td>115173376</td>\n",
       "      <td>Tesla</td>\n",
       "      <td>Roadster</td>\n",
       "      <td>2010</td>\n",
       "      <td>Battery Electric Vehicle (BEV)</td>\n",
       "      <td>King</td>\n",
       "      <td>North Bend</td>\n",
       "      <td>98045</td>\n",
       "      <td>WA</td>\n",
       "      <td>5</td>\n",
       "      <td>Passenger</td>\n",
       "      <td>245</td>\n",
       "      <td>Clean Alternative Fuel Vehicle Eligible</td>\n",
       "      <td>-121.668459</td>\n",
       "      <td>47.426482</td>\n",
       "    </tr>\n",
       "    <tr>\n",
       "      <th>2</th>\n",
       "      <td>123892821</td>\n",
       "      <td>Tesla</td>\n",
       "      <td>Roadster</td>\n",
       "      <td>2010</td>\n",
       "      <td>Battery Electric Vehicle (BEV)</td>\n",
       "      <td>King</td>\n",
       "      <td>Seattle</td>\n",
       "      <td>98121</td>\n",
       "      <td>WA</td>\n",
       "      <td>36</td>\n",
       "      <td>Passenger</td>\n",
       "      <td>245</td>\n",
       "      <td>Clean Alternative Fuel Vehicle Eligible</td>\n",
       "      <td>-122.334341</td>\n",
       "      <td>47.611423</td>\n",
       "    </tr>\n",
       "    <tr>\n",
       "      <th>3</th>\n",
       "      <td>149731004</td>\n",
       "      <td>Tesla</td>\n",
       "      <td>Roadster</td>\n",
       "      <td>2010</td>\n",
       "      <td>Battery Electric Vehicle (BEV)</td>\n",
       "      <td>Snohomish</td>\n",
       "      <td>Mukilteo</td>\n",
       "      <td>98275</td>\n",
       "      <td>WA</td>\n",
       "      <td>21</td>\n",
       "      <td>Passenger</td>\n",
       "      <td>245</td>\n",
       "      <td>Clean Alternative Fuel Vehicle Eligible</td>\n",
       "      <td>-122.302507</td>\n",
       "      <td>47.911921</td>\n",
       "    </tr>\n",
       "    <tr>\n",
       "      <th>4</th>\n",
       "      <td>155686436</td>\n",
       "      <td>Ford</td>\n",
       "      <td>Ranger</td>\n",
       "      <td>1999</td>\n",
       "      <td>Battery Electric Vehicle (BEV)</td>\n",
       "      <td>Skagit</td>\n",
       "      <td>Mount Vernon</td>\n",
       "      <td>98274</td>\n",
       "      <td>WA</td>\n",
       "      <td>10</td>\n",
       "      <td>Truck</td>\n",
       "      <td>74</td>\n",
       "      <td>Clean Alternative Fuel Vehicle Eligible</td>\n",
       "      <td>-122.250701</td>\n",
       "      <td>48.368138</td>\n",
       "    </tr>\n",
       "  </tbody>\n",
       "</table>\n",
       "</div>"
      ],
      "text/plain": [
       "   DOL Vehicle ID   Make     Model  Model Year  \\\n",
       "0       108886998  Tesla  Roadster        2010   \n",
       "1       115173376  Tesla  Roadster        2010   \n",
       "2       123892821  Tesla  Roadster        2010   \n",
       "3       149731004  Tesla  Roadster        2010   \n",
       "4       155686436   Ford    Ranger        1999   \n",
       "\n",
       "  Clean Alternative Fuel Vehicle Type     County          City    Zip  \\\n",
       "0      Battery Electric Vehicle (BEV)       King       Seattle  98112   \n",
       "1      Battery Electric Vehicle (BEV)       King    North Bend  98045   \n",
       "2      Battery Electric Vehicle (BEV)       King       Seattle  98121   \n",
       "3      Battery Electric Vehicle (BEV)  Snohomish      Mukilteo  98275   \n",
       "4      Battery Electric Vehicle (BEV)     Skagit  Mount Vernon  98274   \n",
       "\n",
       "  State of Residence  Legislative District Vehicle Primary Use  \\\n",
       "0                 WA                    43           Passenger   \n",
       "1                 WA                     5           Passenger   \n",
       "2                 WA                    36           Passenger   \n",
       "3                 WA                    21           Passenger   \n",
       "4                 WA                    10               Truck   \n",
       "\n",
       "   Electric Range Clean Alternative Fuel Vehicle (CAFV) Eligibility  \\\n",
       "0             245           Clean Alternative Fuel Vehicle Eligible   \n",
       "1             245           Clean Alternative Fuel Vehicle Eligible   \n",
       "2             245           Clean Alternative Fuel Vehicle Eligible   \n",
       "3             245           Clean Alternative Fuel Vehicle Eligible   \n",
       "4              74           Clean Alternative Fuel Vehicle Eligible   \n",
       "\n",
       "     Latitude  Longitude  \n",
       "0 -122.296466  47.631708  \n",
       "1 -121.668459  47.426482  \n",
       "2 -122.334341  47.611423  \n",
       "3 -122.302507  47.911921  \n",
       "4 -122.250701  48.368138  "
      ]
     },
     "execution_count": 254,
     "metadata": {},
     "output_type": "execute_result"
    }
   ],
   "source": [
    "df_vehicle.head()"
   ]
  },
  {
   "cell_type": "markdown",
   "metadata": {},
   "source": [
    "#### Exporting CSV"
   ]
  },
  {
   "cell_type": "code",
   "execution_count": 255,
   "metadata": {},
   "outputs": [],
   "source": [
    "df_sales.to_csv('EV Sales.csv')\n",
    "df_vehicle.to_csv('EV Vehicles.csv')"
   ]
  }
 ],
 "metadata": {
  "kernelspec": {
   "display_name": "Python 3",
   "language": "python",
   "name": "python3"
  },
  "language_info": {
   "codemirror_mode": {
    "name": "ipython",
    "version": 3
   },
   "file_extension": ".py",
   "mimetype": "text/x-python",
   "name": "python",
   "nbconvert_exporter": "python",
   "pygments_lexer": "ipython3",
   "version": "3.7.7"
  }
 },
 "nbformat": 4,
 "nbformat_minor": 4
}
